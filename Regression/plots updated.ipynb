{
 "cells": [
  {
   "cell_type": "code",
   "execution_count": null,
   "metadata": {
    "id": "7p9XkhpNGJeS"
   },
   "outputs": [],
   "source": [
    "from google.colab import files\n",
    "uploaded = files.upload()"
   ]
  },
  {
   "cell_type": "code",
   "execution_count": 1,
   "metadata": {
    "id": "nu8GbJLyJfl4"
   },
   "outputs": [
    {
     "data": {
      "text/html": [
       "<div>\n",
       "<style scoped>\n",
       "    .dataframe tbody tr th:only-of-type {\n",
       "        vertical-align: middle;\n",
       "    }\n",
       "\n",
       "    .dataframe tbody tr th {\n",
       "        vertical-align: top;\n",
       "    }\n",
       "\n",
       "    .dataframe thead th {\n",
       "        text-align: right;\n",
       "    }\n",
       "</style>\n",
       "<table border=\"1\" class=\"dataframe\">\n",
       "  <thead>\n",
       "    <tr style=\"text-align: right;\">\n",
       "      <th></th>\n",
       "      <th>Sl.NO.</th>\n",
       "      <th>PLAYER NAME</th>\n",
       "      <th>AGE</th>\n",
       "      <th>COUNTRY</th>\n",
       "      <th>TEAM</th>\n",
       "      <th>PLAYING ROLE</th>\n",
       "      <th>T-RUNS</th>\n",
       "      <th>T-WKTS</th>\n",
       "      <th>ODI-RUNS-S</th>\n",
       "      <th>ODI-SR-B</th>\n",
       "      <th>...</th>\n",
       "      <th>SR-B</th>\n",
       "      <th>SIXERS</th>\n",
       "      <th>RUNS-C</th>\n",
       "      <th>WKTS</th>\n",
       "      <th>AVE-BL</th>\n",
       "      <th>ECON</th>\n",
       "      <th>SR-BL</th>\n",
       "      <th>AUCTION YEAR</th>\n",
       "      <th>BASE PRICE</th>\n",
       "      <th>SOLD PRICE</th>\n",
       "    </tr>\n",
       "  </thead>\n",
       "  <tbody>\n",
       "    <tr>\n",
       "      <th>0</th>\n",
       "      <td>1</td>\n",
       "      <td>Abdulla, YA</td>\n",
       "      <td>2</td>\n",
       "      <td>SA</td>\n",
       "      <td>KXIP</td>\n",
       "      <td>Allrounder</td>\n",
       "      <td>0</td>\n",
       "      <td>0</td>\n",
       "      <td>0</td>\n",
       "      <td>0.00</td>\n",
       "      <td>...</td>\n",
       "      <td>0.00</td>\n",
       "      <td>0</td>\n",
       "      <td>307</td>\n",
       "      <td>15</td>\n",
       "      <td>20.47</td>\n",
       "      <td>8.90</td>\n",
       "      <td>13.93</td>\n",
       "      <td>2009</td>\n",
       "      <td>50000</td>\n",
       "      <td>50000</td>\n",
       "    </tr>\n",
       "    <tr>\n",
       "      <th>1</th>\n",
       "      <td>2</td>\n",
       "      <td>Abdur Razzak</td>\n",
       "      <td>2</td>\n",
       "      <td>BAN</td>\n",
       "      <td>RCB</td>\n",
       "      <td>Bowler</td>\n",
       "      <td>214</td>\n",
       "      <td>18</td>\n",
       "      <td>657</td>\n",
       "      <td>71.41</td>\n",
       "      <td>...</td>\n",
       "      <td>0.00</td>\n",
       "      <td>0</td>\n",
       "      <td>29</td>\n",
       "      <td>0</td>\n",
       "      <td>0.00</td>\n",
       "      <td>14.50</td>\n",
       "      <td>0.00</td>\n",
       "      <td>2008</td>\n",
       "      <td>50000</td>\n",
       "      <td>50000</td>\n",
       "    </tr>\n",
       "    <tr>\n",
       "      <th>2</th>\n",
       "      <td>3</td>\n",
       "      <td>Agarkar, AB</td>\n",
       "      <td>2</td>\n",
       "      <td>IND</td>\n",
       "      <td>KKR</td>\n",
       "      <td>Bowler</td>\n",
       "      <td>571</td>\n",
       "      <td>58</td>\n",
       "      <td>1269</td>\n",
       "      <td>80.62</td>\n",
       "      <td>...</td>\n",
       "      <td>121.01</td>\n",
       "      <td>5</td>\n",
       "      <td>1059</td>\n",
       "      <td>29</td>\n",
       "      <td>36.52</td>\n",
       "      <td>8.81</td>\n",
       "      <td>24.90</td>\n",
       "      <td>2008</td>\n",
       "      <td>200000</td>\n",
       "      <td>350000</td>\n",
       "    </tr>\n",
       "    <tr>\n",
       "      <th>3</th>\n",
       "      <td>4</td>\n",
       "      <td>Ashwin, R</td>\n",
       "      <td>1</td>\n",
       "      <td>IND</td>\n",
       "      <td>CSK</td>\n",
       "      <td>Bowler</td>\n",
       "      <td>284</td>\n",
       "      <td>31</td>\n",
       "      <td>241</td>\n",
       "      <td>84.56</td>\n",
       "      <td>...</td>\n",
       "      <td>76.32</td>\n",
       "      <td>0</td>\n",
       "      <td>1125</td>\n",
       "      <td>49</td>\n",
       "      <td>22.96</td>\n",
       "      <td>6.23</td>\n",
       "      <td>22.14</td>\n",
       "      <td>2011</td>\n",
       "      <td>100000</td>\n",
       "      <td>850000</td>\n",
       "    </tr>\n",
       "    <tr>\n",
       "      <th>4</th>\n",
       "      <td>5</td>\n",
       "      <td>Badrinath, S</td>\n",
       "      <td>2</td>\n",
       "      <td>IND</td>\n",
       "      <td>CSK</td>\n",
       "      <td>Batsman</td>\n",
       "      <td>63</td>\n",
       "      <td>0</td>\n",
       "      <td>79</td>\n",
       "      <td>45.93</td>\n",
       "      <td>...</td>\n",
       "      <td>120.71</td>\n",
       "      <td>28</td>\n",
       "      <td>0</td>\n",
       "      <td>0</td>\n",
       "      <td>0.00</td>\n",
       "      <td>0.00</td>\n",
       "      <td>0.00</td>\n",
       "      <td>2011</td>\n",
       "      <td>100000</td>\n",
       "      <td>800000</td>\n",
       "    </tr>\n",
       "  </tbody>\n",
       "</table>\n",
       "<p>5 rows × 26 columns</p>\n",
       "</div>"
      ],
      "text/plain": [
       "   Sl.NO.   PLAYER NAME  AGE COUNTRY  TEAM PLAYING ROLE  T-RUNS  T-WKTS  \\\n",
       "0       1   Abdulla, YA    2      SA  KXIP   Allrounder       0       0   \n",
       "1       2  Abdur Razzak    2     BAN   RCB       Bowler     214      18   \n",
       "2       3   Agarkar, AB    2     IND   KKR       Bowler     571      58   \n",
       "3       4     Ashwin, R    1     IND   CSK       Bowler     284      31   \n",
       "4       5  Badrinath, S    2     IND   CSK      Batsman      63       0   \n",
       "\n",
       "   ODI-RUNS-S  ODI-SR-B  ...    SR-B  SIXERS  RUNS-C  WKTS  AVE-BL   ECON  \\\n",
       "0           0      0.00  ...    0.00       0     307    15   20.47   8.90   \n",
       "1         657     71.41  ...    0.00       0      29     0    0.00  14.50   \n",
       "2        1269     80.62  ...  121.01       5    1059    29   36.52   8.81   \n",
       "3         241     84.56  ...   76.32       0    1125    49   22.96   6.23   \n",
       "4          79     45.93  ...  120.71      28       0     0    0.00   0.00   \n",
       "\n",
       "   SR-BL  AUCTION YEAR  BASE PRICE  SOLD PRICE  \n",
       "0  13.93          2009       50000       50000  \n",
       "1   0.00          2008       50000       50000  \n",
       "2  24.90          2008      200000      350000  \n",
       "3  22.14          2011      100000      850000  \n",
       "4   0.00          2011      100000      800000  \n",
       "\n",
       "[5 rows x 26 columns]"
      ]
     },
     "execution_count": 1,
     "metadata": {},
     "output_type": "execute_result"
    }
   ],
   "source": [
    "import pandas as pd\n",
    "ipl=pd.read_csv(\"IPL IMB381IPL2013.csv\")\n",
    "ipl.head()"
   ]
  },
  {
   "cell_type": "code",
   "execution_count": 2,
   "metadata": {
    "id": "sv4yPvTgN8c2"
   },
   "outputs": [
    {
     "data": {
      "text/html": [
       "<div>\n",
       "<style scoped>\n",
       "    .dataframe tbody tr th:only-of-type {\n",
       "        vertical-align: middle;\n",
       "    }\n",
       "\n",
       "    .dataframe tbody tr th {\n",
       "        vertical-align: top;\n",
       "    }\n",
       "\n",
       "    .dataframe thead th {\n",
       "        text-align: right;\n",
       "    }\n",
       "</style>\n",
       "<table border=\"1\" class=\"dataframe\">\n",
       "  <thead>\n",
       "    <tr style=\"text-align: right;\">\n",
       "      <th></th>\n",
       "      <th>Sl.NO.</th>\n",
       "      <th>PLAYER NAME</th>\n",
       "      <th>AGE</th>\n",
       "      <th>COUNTRY</th>\n",
       "      <th>TEAM</th>\n",
       "      <th>PLAYING ROLE</th>\n",
       "      <th>T-RUNS</th>\n",
       "      <th>T-WKTS</th>\n",
       "      <th>ODI-RUNS-S</th>\n",
       "      <th>ODI-SR-B</th>\n",
       "      <th>...</th>\n",
       "      <th>SR-B</th>\n",
       "      <th>SIXERS</th>\n",
       "      <th>RUNS-C</th>\n",
       "      <th>WKTS</th>\n",
       "      <th>AVE-BL</th>\n",
       "      <th>ECON</th>\n",
       "      <th>SR-BL</th>\n",
       "      <th>AUCTION YEAR</th>\n",
       "      <th>BASE PRICE</th>\n",
       "      <th>SOLD PRICE</th>\n",
       "    </tr>\n",
       "  </thead>\n",
       "  <tbody>\n",
       "    <tr>\n",
       "      <th>0</th>\n",
       "      <td>1</td>\n",
       "      <td>Abdulla, YA</td>\n",
       "      <td>2</td>\n",
       "      <td>SA</td>\n",
       "      <td>KXIP</td>\n",
       "      <td>Allrounder</td>\n",
       "      <td>0</td>\n",
       "      <td>0</td>\n",
       "      <td>0</td>\n",
       "      <td>0.00</td>\n",
       "      <td>...</td>\n",
       "      <td>0.00</td>\n",
       "      <td>0</td>\n",
       "      <td>307</td>\n",
       "      <td>15</td>\n",
       "      <td>20.47</td>\n",
       "      <td>8.90</td>\n",
       "      <td>13.93</td>\n",
       "      <td>2009</td>\n",
       "      <td>50000</td>\n",
       "      <td>50000</td>\n",
       "    </tr>\n",
       "    <tr>\n",
       "      <th>1</th>\n",
       "      <td>2</td>\n",
       "      <td>Abdur Razzak</td>\n",
       "      <td>2</td>\n",
       "      <td>BAN</td>\n",
       "      <td>RCB</td>\n",
       "      <td>Bowler</td>\n",
       "      <td>214</td>\n",
       "      <td>18</td>\n",
       "      <td>657</td>\n",
       "      <td>71.41</td>\n",
       "      <td>...</td>\n",
       "      <td>0.00</td>\n",
       "      <td>0</td>\n",
       "      <td>29</td>\n",
       "      <td>0</td>\n",
       "      <td>0.00</td>\n",
       "      <td>14.50</td>\n",
       "      <td>0.00</td>\n",
       "      <td>2008</td>\n",
       "      <td>50000</td>\n",
       "      <td>50000</td>\n",
       "    </tr>\n",
       "    <tr>\n",
       "      <th>2</th>\n",
       "      <td>3</td>\n",
       "      <td>Agarkar, AB</td>\n",
       "      <td>2</td>\n",
       "      <td>IND</td>\n",
       "      <td>KKR</td>\n",
       "      <td>Bowler</td>\n",
       "      <td>571</td>\n",
       "      <td>58</td>\n",
       "      <td>1269</td>\n",
       "      <td>80.62</td>\n",
       "      <td>...</td>\n",
       "      <td>121.01</td>\n",
       "      <td>5</td>\n",
       "      <td>1059</td>\n",
       "      <td>29</td>\n",
       "      <td>36.52</td>\n",
       "      <td>8.81</td>\n",
       "      <td>24.90</td>\n",
       "      <td>2008</td>\n",
       "      <td>200000</td>\n",
       "      <td>350000</td>\n",
       "    </tr>\n",
       "    <tr>\n",
       "      <th>3</th>\n",
       "      <td>4</td>\n",
       "      <td>Ashwin, R</td>\n",
       "      <td>1</td>\n",
       "      <td>IND</td>\n",
       "      <td>CSK</td>\n",
       "      <td>Bowler</td>\n",
       "      <td>284</td>\n",
       "      <td>31</td>\n",
       "      <td>241</td>\n",
       "      <td>84.56</td>\n",
       "      <td>...</td>\n",
       "      <td>76.32</td>\n",
       "      <td>0</td>\n",
       "      <td>1125</td>\n",
       "      <td>49</td>\n",
       "      <td>22.96</td>\n",
       "      <td>6.23</td>\n",
       "      <td>22.14</td>\n",
       "      <td>2011</td>\n",
       "      <td>100000</td>\n",
       "      <td>850000</td>\n",
       "    </tr>\n",
       "    <tr>\n",
       "      <th>4</th>\n",
       "      <td>5</td>\n",
       "      <td>Badrinath, S</td>\n",
       "      <td>2</td>\n",
       "      <td>IND</td>\n",
       "      <td>CSK</td>\n",
       "      <td>Batsman</td>\n",
       "      <td>63</td>\n",
       "      <td>0</td>\n",
       "      <td>79</td>\n",
       "      <td>45.93</td>\n",
       "      <td>...</td>\n",
       "      <td>120.71</td>\n",
       "      <td>28</td>\n",
       "      <td>0</td>\n",
       "      <td>0</td>\n",
       "      <td>0.00</td>\n",
       "      <td>0.00</td>\n",
       "      <td>0.00</td>\n",
       "      <td>2011</td>\n",
       "      <td>100000</td>\n",
       "      <td>800000</td>\n",
       "    </tr>\n",
       "    <tr>\n",
       "      <th>5</th>\n",
       "      <td>6</td>\n",
       "      <td>Bailey, GJ</td>\n",
       "      <td>2</td>\n",
       "      <td>AUS</td>\n",
       "      <td>CSK</td>\n",
       "      <td>Batsman</td>\n",
       "      <td>0</td>\n",
       "      <td>0</td>\n",
       "      <td>172</td>\n",
       "      <td>72.26</td>\n",
       "      <td>...</td>\n",
       "      <td>95.45</td>\n",
       "      <td>0</td>\n",
       "      <td>0</td>\n",
       "      <td>0</td>\n",
       "      <td>0.00</td>\n",
       "      <td>0.00</td>\n",
       "      <td>0.00</td>\n",
       "      <td>2009</td>\n",
       "      <td>50000</td>\n",
       "      <td>50000</td>\n",
       "    </tr>\n",
       "    <tr>\n",
       "      <th>6</th>\n",
       "      <td>7</td>\n",
       "      <td>Balaji, L</td>\n",
       "      <td>2</td>\n",
       "      <td>IND</td>\n",
       "      <td>CSK+</td>\n",
       "      <td>Bowler</td>\n",
       "      <td>51</td>\n",
       "      <td>27</td>\n",
       "      <td>120</td>\n",
       "      <td>78.94</td>\n",
       "      <td>...</td>\n",
       "      <td>72.22</td>\n",
       "      <td>1</td>\n",
       "      <td>1342</td>\n",
       "      <td>52</td>\n",
       "      <td>25.81</td>\n",
       "      <td>7.98</td>\n",
       "      <td>19.40</td>\n",
       "      <td>2011</td>\n",
       "      <td>100000</td>\n",
       "      <td>500000</td>\n",
       "    </tr>\n",
       "    <tr>\n",
       "      <th>7</th>\n",
       "      <td>8</td>\n",
       "      <td>Bollinger, DE</td>\n",
       "      <td>2</td>\n",
       "      <td>AUS</td>\n",
       "      <td>CSK</td>\n",
       "      <td>Bowler</td>\n",
       "      <td>54</td>\n",
       "      <td>50</td>\n",
       "      <td>50</td>\n",
       "      <td>92.59</td>\n",
       "      <td>...</td>\n",
       "      <td>165.88</td>\n",
       "      <td>1</td>\n",
       "      <td>693</td>\n",
       "      <td>37</td>\n",
       "      <td>18.73</td>\n",
       "      <td>7.22</td>\n",
       "      <td>15.57</td>\n",
       "      <td>2011</td>\n",
       "      <td>200000</td>\n",
       "      <td>700000</td>\n",
       "    </tr>\n",
       "    <tr>\n",
       "      <th>8</th>\n",
       "      <td>9</td>\n",
       "      <td>Botha, J</td>\n",
       "      <td>2</td>\n",
       "      <td>SA</td>\n",
       "      <td>RR</td>\n",
       "      <td>Allrounder</td>\n",
       "      <td>83</td>\n",
       "      <td>17</td>\n",
       "      <td>609</td>\n",
       "      <td>85.77</td>\n",
       "      <td>...</td>\n",
       "      <td>114.73</td>\n",
       "      <td>3</td>\n",
       "      <td>610</td>\n",
       "      <td>19</td>\n",
       "      <td>32.11</td>\n",
       "      <td>6.85</td>\n",
       "      <td>28.11</td>\n",
       "      <td>2011</td>\n",
       "      <td>200000</td>\n",
       "      <td>950000</td>\n",
       "    </tr>\n",
       "    <tr>\n",
       "      <th>9</th>\n",
       "      <td>10</td>\n",
       "      <td>Boucher, MV</td>\n",
       "      <td>2</td>\n",
       "      <td>SA</td>\n",
       "      <td>RCB+</td>\n",
       "      <td>W. Keeper</td>\n",
       "      <td>5515</td>\n",
       "      <td>1</td>\n",
       "      <td>4686</td>\n",
       "      <td>84.76</td>\n",
       "      <td>...</td>\n",
       "      <td>127.51</td>\n",
       "      <td>13</td>\n",
       "      <td>0</td>\n",
       "      <td>0</td>\n",
       "      <td>0.00</td>\n",
       "      <td>0.00</td>\n",
       "      <td>0.00</td>\n",
       "      <td>2008</td>\n",
       "      <td>200000</td>\n",
       "      <td>450000</td>\n",
       "    </tr>\n",
       "  </tbody>\n",
       "</table>\n",
       "<p>10 rows × 26 columns</p>\n",
       "</div>"
      ],
      "text/plain": [
       "   Sl.NO.    PLAYER NAME  AGE COUNTRY  TEAM PLAYING ROLE  T-RUNS  T-WKTS  \\\n",
       "0       1    Abdulla, YA    2      SA  KXIP   Allrounder       0       0   \n",
       "1       2   Abdur Razzak    2     BAN   RCB       Bowler     214      18   \n",
       "2       3    Agarkar, AB    2     IND   KKR       Bowler     571      58   \n",
       "3       4      Ashwin, R    1     IND   CSK       Bowler     284      31   \n",
       "4       5   Badrinath, S    2     IND   CSK      Batsman      63       0   \n",
       "5       6     Bailey, GJ    2     AUS   CSK      Batsman       0       0   \n",
       "6       7      Balaji, L    2     IND  CSK+       Bowler      51      27   \n",
       "7       8  Bollinger, DE    2     AUS   CSK       Bowler      54      50   \n",
       "8       9       Botha, J    2      SA    RR   Allrounder      83      17   \n",
       "9      10    Boucher, MV    2      SA  RCB+    W. Keeper    5515       1   \n",
       "\n",
       "   ODI-RUNS-S  ODI-SR-B  ...    SR-B  SIXERS  RUNS-C  WKTS  AVE-BL   ECON  \\\n",
       "0           0      0.00  ...    0.00       0     307    15   20.47   8.90   \n",
       "1         657     71.41  ...    0.00       0      29     0    0.00  14.50   \n",
       "2        1269     80.62  ...  121.01       5    1059    29   36.52   8.81   \n",
       "3         241     84.56  ...   76.32       0    1125    49   22.96   6.23   \n",
       "4          79     45.93  ...  120.71      28       0     0    0.00   0.00   \n",
       "5         172     72.26  ...   95.45       0       0     0    0.00   0.00   \n",
       "6         120     78.94  ...   72.22       1    1342    52   25.81   7.98   \n",
       "7          50     92.59  ...  165.88       1     693    37   18.73   7.22   \n",
       "8         609     85.77  ...  114.73       3     610    19   32.11   6.85   \n",
       "9        4686     84.76  ...  127.51      13       0     0    0.00   0.00   \n",
       "\n",
       "   SR-BL  AUCTION YEAR  BASE PRICE  SOLD PRICE  \n",
       "0  13.93          2009       50000       50000  \n",
       "1   0.00          2008       50000       50000  \n",
       "2  24.90          2008      200000      350000  \n",
       "3  22.14          2011      100000      850000  \n",
       "4   0.00          2011      100000      800000  \n",
       "5   0.00          2009       50000       50000  \n",
       "6  19.40          2011      100000      500000  \n",
       "7  15.57          2011      200000      700000  \n",
       "8  28.11          2011      200000      950000  \n",
       "9   0.00          2008      200000      450000  \n",
       "\n",
       "[10 rows x 26 columns]"
      ]
     },
     "execution_count": 2,
     "metadata": {},
     "output_type": "execute_result"
    }
   ],
   "source": [
    "ipl.head(10)"
   ]
  },
  {
   "cell_type": "code",
   "execution_count": 3,
   "metadata": {
    "id": "UfnelOC6ODz-"
   },
   "outputs": [
    {
     "data": {
      "text/html": [
       "<div>\n",
       "<style scoped>\n",
       "    .dataframe tbody tr th:only-of-type {\n",
       "        vertical-align: middle;\n",
       "    }\n",
       "\n",
       "    .dataframe tbody tr th {\n",
       "        vertical-align: top;\n",
       "    }\n",
       "\n",
       "    .dataframe thead th {\n",
       "        text-align: right;\n",
       "    }\n",
       "</style>\n",
       "<table border=\"1\" class=\"dataframe\">\n",
       "  <thead>\n",
       "    <tr style=\"text-align: right;\">\n",
       "      <th></th>\n",
       "      <th>Sl.NO.</th>\n",
       "      <th>PLAYER NAME</th>\n",
       "      <th>AGE</th>\n",
       "      <th>COUNTRY</th>\n",
       "      <th>TEAM</th>\n",
       "      <th>PLAYING ROLE</th>\n",
       "      <th>T-RUNS</th>\n",
       "      <th>T-WKTS</th>\n",
       "      <th>ODI-RUNS-S</th>\n",
       "      <th>ODI-SR-B</th>\n",
       "      <th>...</th>\n",
       "      <th>SR-B</th>\n",
       "      <th>SIXERS</th>\n",
       "      <th>RUNS-C</th>\n",
       "      <th>WKTS</th>\n",
       "      <th>AVE-BL</th>\n",
       "      <th>ECON</th>\n",
       "      <th>SR-BL</th>\n",
       "      <th>AUCTION YEAR</th>\n",
       "      <th>BASE PRICE</th>\n",
       "      <th>SOLD PRICE</th>\n",
       "    </tr>\n",
       "  </thead>\n",
       "  <tbody>\n",
       "    <tr>\n",
       "      <th>125</th>\n",
       "      <td>126</td>\n",
       "      <td>Yadav, AS</td>\n",
       "      <td>2</td>\n",
       "      <td>IND</td>\n",
       "      <td>DC</td>\n",
       "      <td>Batsman</td>\n",
       "      <td>0</td>\n",
       "      <td>0</td>\n",
       "      <td>0</td>\n",
       "      <td>0.00</td>\n",
       "      <td>...</td>\n",
       "      <td>125.64</td>\n",
       "      <td>2</td>\n",
       "      <td>0</td>\n",
       "      <td>0</td>\n",
       "      <td>0.00</td>\n",
       "      <td>0.00</td>\n",
       "      <td>0.00</td>\n",
       "      <td>2010</td>\n",
       "      <td>50000</td>\n",
       "      <td>750000</td>\n",
       "    </tr>\n",
       "    <tr>\n",
       "      <th>126</th>\n",
       "      <td>127</td>\n",
       "      <td>Younis Khan</td>\n",
       "      <td>2</td>\n",
       "      <td>PAK</td>\n",
       "      <td>RR</td>\n",
       "      <td>Batsman</td>\n",
       "      <td>6398</td>\n",
       "      <td>7</td>\n",
       "      <td>6814</td>\n",
       "      <td>75.78</td>\n",
       "      <td>...</td>\n",
       "      <td>42.85</td>\n",
       "      <td>0</td>\n",
       "      <td>0</td>\n",
       "      <td>0</td>\n",
       "      <td>0.00</td>\n",
       "      <td>0.00</td>\n",
       "      <td>0.00</td>\n",
       "      <td>2008</td>\n",
       "      <td>225000</td>\n",
       "      <td>225000</td>\n",
       "    </tr>\n",
       "    <tr>\n",
       "      <th>127</th>\n",
       "      <td>128</td>\n",
       "      <td>Yuvraj Singh</td>\n",
       "      <td>2</td>\n",
       "      <td>IND</td>\n",
       "      <td>KXIP+</td>\n",
       "      <td>Batsman</td>\n",
       "      <td>1775</td>\n",
       "      <td>9</td>\n",
       "      <td>8051</td>\n",
       "      <td>87.58</td>\n",
       "      <td>...</td>\n",
       "      <td>131.88</td>\n",
       "      <td>67</td>\n",
       "      <td>569</td>\n",
       "      <td>23</td>\n",
       "      <td>24.74</td>\n",
       "      <td>7.02</td>\n",
       "      <td>21.13</td>\n",
       "      <td>2011</td>\n",
       "      <td>400000</td>\n",
       "      <td>1800000</td>\n",
       "    </tr>\n",
       "    <tr>\n",
       "      <th>128</th>\n",
       "      <td>129</td>\n",
       "      <td>Zaheer Khan</td>\n",
       "      <td>2</td>\n",
       "      <td>IND</td>\n",
       "      <td>MI+</td>\n",
       "      <td>Bowler</td>\n",
       "      <td>1114</td>\n",
       "      <td>288</td>\n",
       "      <td>790</td>\n",
       "      <td>73.55</td>\n",
       "      <td>...</td>\n",
       "      <td>91.67</td>\n",
       "      <td>1</td>\n",
       "      <td>1783</td>\n",
       "      <td>65</td>\n",
       "      <td>27.43</td>\n",
       "      <td>7.75</td>\n",
       "      <td>21.26</td>\n",
       "      <td>2008</td>\n",
       "      <td>200000</td>\n",
       "      <td>450000</td>\n",
       "    </tr>\n",
       "    <tr>\n",
       "      <th>129</th>\n",
       "      <td>130</td>\n",
       "      <td>Zoysa, DNT</td>\n",
       "      <td>2</td>\n",
       "      <td>SL</td>\n",
       "      <td>DC</td>\n",
       "      <td>Bowler</td>\n",
       "      <td>288</td>\n",
       "      <td>64</td>\n",
       "      <td>343</td>\n",
       "      <td>95.81</td>\n",
       "      <td>...</td>\n",
       "      <td>122.22</td>\n",
       "      <td>0</td>\n",
       "      <td>99</td>\n",
       "      <td>2</td>\n",
       "      <td>49.50</td>\n",
       "      <td>9.00</td>\n",
       "      <td>33.00</td>\n",
       "      <td>2008</td>\n",
       "      <td>100000</td>\n",
       "      <td>110000</td>\n",
       "    </tr>\n",
       "  </tbody>\n",
       "</table>\n",
       "<p>5 rows × 26 columns</p>\n",
       "</div>"
      ],
      "text/plain": [
       "     Sl.NO.   PLAYER NAME  AGE COUNTRY   TEAM PLAYING ROLE  T-RUNS  T-WKTS  \\\n",
       "125     126     Yadav, AS    2     IND     DC      Batsman       0       0   \n",
       "126     127   Younis Khan    2     PAK     RR      Batsman    6398       7   \n",
       "127     128  Yuvraj Singh    2     IND  KXIP+      Batsman    1775       9   \n",
       "128     129   Zaheer Khan    2     IND    MI+       Bowler    1114     288   \n",
       "129     130    Zoysa, DNT    2      SL     DC       Bowler     288      64   \n",
       "\n",
       "     ODI-RUNS-S  ODI-SR-B  ...    SR-B  SIXERS  RUNS-C  WKTS  AVE-BL  ECON  \\\n",
       "125           0      0.00  ...  125.64       2       0     0    0.00  0.00   \n",
       "126        6814     75.78  ...   42.85       0       0     0    0.00  0.00   \n",
       "127        8051     87.58  ...  131.88      67     569    23   24.74  7.02   \n",
       "128         790     73.55  ...   91.67       1    1783    65   27.43  7.75   \n",
       "129         343     95.81  ...  122.22       0      99     2   49.50  9.00   \n",
       "\n",
       "     SR-BL  AUCTION YEAR  BASE PRICE  SOLD PRICE  \n",
       "125   0.00          2010       50000      750000  \n",
       "126   0.00          2008      225000      225000  \n",
       "127  21.13          2011      400000     1800000  \n",
       "128  21.26          2008      200000      450000  \n",
       "129  33.00          2008      100000      110000  \n",
       "\n",
       "[5 rows x 26 columns]"
      ]
     },
     "execution_count": 3,
     "metadata": {},
     "output_type": "execute_result"
    }
   ],
   "source": [
    "ipl.tail()"
   ]
  },
  {
   "cell_type": "code",
   "execution_count": 4,
   "metadata": {
    "id": "T5yuv4TdOKGl"
   },
   "outputs": [
    {
     "data": {
      "text/html": [
       "<div>\n",
       "<style scoped>\n",
       "    .dataframe tbody tr th:only-of-type {\n",
       "        vertical-align: middle;\n",
       "    }\n",
       "\n",
       "    .dataframe tbody tr th {\n",
       "        vertical-align: top;\n",
       "    }\n",
       "\n",
       "    .dataframe thead th {\n",
       "        text-align: right;\n",
       "    }\n",
       "</style>\n",
       "<table border=\"1\" class=\"dataframe\">\n",
       "  <thead>\n",
       "    <tr style=\"text-align: right;\">\n",
       "      <th></th>\n",
       "      <th>Sl.NO.</th>\n",
       "      <th>PLAYER NAME</th>\n",
       "      <th>AGE</th>\n",
       "      <th>COUNTRY</th>\n",
       "      <th>TEAM</th>\n",
       "      <th>PLAYING ROLE</th>\n",
       "      <th>T-RUNS</th>\n",
       "      <th>T-WKTS</th>\n",
       "      <th>ODI-RUNS-S</th>\n",
       "      <th>ODI-SR-B</th>\n",
       "      <th>...</th>\n",
       "      <th>SR-B</th>\n",
       "      <th>SIXERS</th>\n",
       "      <th>RUNS-C</th>\n",
       "      <th>WKTS</th>\n",
       "      <th>AVE-BL</th>\n",
       "      <th>ECON</th>\n",
       "      <th>SR-BL</th>\n",
       "      <th>AUCTION YEAR</th>\n",
       "      <th>BASE PRICE</th>\n",
       "      <th>SOLD PRICE</th>\n",
       "    </tr>\n",
       "  </thead>\n",
       "  <tbody>\n",
       "    <tr>\n",
       "      <th>115</th>\n",
       "      <td>116</td>\n",
       "      <td>Umar Gul</td>\n",
       "      <td>2</td>\n",
       "      <td>PAK</td>\n",
       "      <td>KKR</td>\n",
       "      <td>Bowler</td>\n",
       "      <td>541</td>\n",
       "      <td>157</td>\n",
       "      <td>368</td>\n",
       "      <td>69.04</td>\n",
       "      <td>...</td>\n",
       "      <td>205.26</td>\n",
       "      <td>5</td>\n",
       "      <td>184</td>\n",
       "      <td>12</td>\n",
       "      <td>15.33</td>\n",
       "      <td>8.17</td>\n",
       "      <td>11.20</td>\n",
       "      <td>2008</td>\n",
       "      <td>150000</td>\n",
       "      <td>150000</td>\n",
       "    </tr>\n",
       "    <tr>\n",
       "      <th>116</th>\n",
       "      <td>117</td>\n",
       "      <td>Uthappa, RV</td>\n",
       "      <td>2</td>\n",
       "      <td>IND</td>\n",
       "      <td>RCB+</td>\n",
       "      <td>Batsman</td>\n",
       "      <td>0</td>\n",
       "      <td>0</td>\n",
       "      <td>786</td>\n",
       "      <td>91.92</td>\n",
       "      <td>...</td>\n",
       "      <td>126.17</td>\n",
       "      <td>59</td>\n",
       "      <td>0</td>\n",
       "      <td>0</td>\n",
       "      <td>0.00</td>\n",
       "      <td>0.00</td>\n",
       "      <td>0.00</td>\n",
       "      <td>2008</td>\n",
       "      <td>200000</td>\n",
       "      <td>800000</td>\n",
       "    </tr>\n",
       "    <tr>\n",
       "      <th>117</th>\n",
       "      <td>118</td>\n",
       "      <td>Vaas, WPUJC</td>\n",
       "      <td>3</td>\n",
       "      <td>SL</td>\n",
       "      <td>DC</td>\n",
       "      <td>Bowler</td>\n",
       "      <td>3089</td>\n",
       "      <td>355</td>\n",
       "      <td>2025</td>\n",
       "      <td>72.52</td>\n",
       "      <td>...</td>\n",
       "      <td>110.96</td>\n",
       "      <td>3</td>\n",
       "      <td>355</td>\n",
       "      <td>18</td>\n",
       "      <td>19.72</td>\n",
       "      <td>7.55</td>\n",
       "      <td>15.67</td>\n",
       "      <td>2008</td>\n",
       "      <td>200000</td>\n",
       "      <td>200000</td>\n",
       "    </tr>\n",
       "    <tr>\n",
       "      <th>118</th>\n",
       "      <td>119</td>\n",
       "      <td>Van der Merwe</td>\n",
       "      <td>2</td>\n",
       "      <td>SA</td>\n",
       "      <td>RCB+</td>\n",
       "      <td>Allrounder</td>\n",
       "      <td>0</td>\n",
       "      <td>0</td>\n",
       "      <td>39</td>\n",
       "      <td>95.12</td>\n",
       "      <td>...</td>\n",
       "      <td>118.10</td>\n",
       "      <td>8</td>\n",
       "      <td>427</td>\n",
       "      <td>18</td>\n",
       "      <td>23.72</td>\n",
       "      <td>6.83</td>\n",
       "      <td>20.94</td>\n",
       "      <td>2011</td>\n",
       "      <td>50000</td>\n",
       "      <td>50000</td>\n",
       "    </tr>\n",
       "    <tr>\n",
       "      <th>119</th>\n",
       "      <td>120</td>\n",
       "      <td>Venugopal Rao, Y</td>\n",
       "      <td>2</td>\n",
       "      <td>IND</td>\n",
       "      <td>DC+</td>\n",
       "      <td>Batsman</td>\n",
       "      <td>0</td>\n",
       "      <td>0</td>\n",
       "      <td>218</td>\n",
       "      <td>60.05</td>\n",
       "      <td>...</td>\n",
       "      <td>118.24</td>\n",
       "      <td>37</td>\n",
       "      <td>321</td>\n",
       "      <td>6</td>\n",
       "      <td>53.50</td>\n",
       "      <td>9.44</td>\n",
       "      <td>34.00</td>\n",
       "      <td>2011</td>\n",
       "      <td>100000</td>\n",
       "      <td>700000</td>\n",
       "    </tr>\n",
       "    <tr>\n",
       "      <th>120</th>\n",
       "      <td>121</td>\n",
       "      <td>Vettori, DL</td>\n",
       "      <td>2</td>\n",
       "      <td>NZ</td>\n",
       "      <td>DD+</td>\n",
       "      <td>Allrounder</td>\n",
       "      <td>4486</td>\n",
       "      <td>359</td>\n",
       "      <td>2105</td>\n",
       "      <td>81.93</td>\n",
       "      <td>...</td>\n",
       "      <td>107.08</td>\n",
       "      <td>2</td>\n",
       "      <td>878</td>\n",
       "      <td>28</td>\n",
       "      <td>31.36</td>\n",
       "      <td>6.81</td>\n",
       "      <td>27.75</td>\n",
       "      <td>2008</td>\n",
       "      <td>250000</td>\n",
       "      <td>625000</td>\n",
       "    </tr>\n",
       "    <tr>\n",
       "      <th>121</th>\n",
       "      <td>122</td>\n",
       "      <td>Vinay Kumar, R</td>\n",
       "      <td>2</td>\n",
       "      <td>IND</td>\n",
       "      <td>RCB+</td>\n",
       "      <td>Bowler</td>\n",
       "      <td>11</td>\n",
       "      <td>1</td>\n",
       "      <td>43</td>\n",
       "      <td>43.87</td>\n",
       "      <td>...</td>\n",
       "      <td>104.83</td>\n",
       "      <td>5</td>\n",
       "      <td>1664</td>\n",
       "      <td>61</td>\n",
       "      <td>27.28</td>\n",
       "      <td>8.24</td>\n",
       "      <td>19.87</td>\n",
       "      <td>2011</td>\n",
       "      <td>100000</td>\n",
       "      <td>475000</td>\n",
       "    </tr>\n",
       "    <tr>\n",
       "      <th>122</th>\n",
       "      <td>123</td>\n",
       "      <td>Warne, SK</td>\n",
       "      <td>3</td>\n",
       "      <td>AUS</td>\n",
       "      <td>RR</td>\n",
       "      <td>Bowler</td>\n",
       "      <td>3154</td>\n",
       "      <td>708</td>\n",
       "      <td>1018</td>\n",
       "      <td>72.04</td>\n",
       "      <td>...</td>\n",
       "      <td>92.52</td>\n",
       "      <td>6</td>\n",
       "      <td>1447</td>\n",
       "      <td>57</td>\n",
       "      <td>25.39</td>\n",
       "      <td>7.27</td>\n",
       "      <td>20.95</td>\n",
       "      <td>2008</td>\n",
       "      <td>450000</td>\n",
       "      <td>450000</td>\n",
       "    </tr>\n",
       "    <tr>\n",
       "      <th>123</th>\n",
       "      <td>124</td>\n",
       "      <td>Warner, DA</td>\n",
       "      <td>1</td>\n",
       "      <td>AUS</td>\n",
       "      <td>DD</td>\n",
       "      <td>Batsman</td>\n",
       "      <td>483</td>\n",
       "      <td>2</td>\n",
       "      <td>876</td>\n",
       "      <td>85.79</td>\n",
       "      <td>...</td>\n",
       "      <td>135.76</td>\n",
       "      <td>44</td>\n",
       "      <td>0</td>\n",
       "      <td>0</td>\n",
       "      <td>0.00</td>\n",
       "      <td>0.00</td>\n",
       "      <td>0.00</td>\n",
       "      <td>2011</td>\n",
       "      <td>200000</td>\n",
       "      <td>750000</td>\n",
       "    </tr>\n",
       "    <tr>\n",
       "      <th>124</th>\n",
       "      <td>125</td>\n",
       "      <td>White, CL</td>\n",
       "      <td>2</td>\n",
       "      <td>AUS</td>\n",
       "      <td>RCB+</td>\n",
       "      <td>Batsman</td>\n",
       "      <td>146</td>\n",
       "      <td>5</td>\n",
       "      <td>2037</td>\n",
       "      <td>80.48</td>\n",
       "      <td>...</td>\n",
       "      <td>132.09</td>\n",
       "      <td>29</td>\n",
       "      <td>70</td>\n",
       "      <td>0</td>\n",
       "      <td>0.00</td>\n",
       "      <td>14.00</td>\n",
       "      <td>0.00</td>\n",
       "      <td>2008</td>\n",
       "      <td>100000</td>\n",
       "      <td>500000</td>\n",
       "    </tr>\n",
       "    <tr>\n",
       "      <th>125</th>\n",
       "      <td>126</td>\n",
       "      <td>Yadav, AS</td>\n",
       "      <td>2</td>\n",
       "      <td>IND</td>\n",
       "      <td>DC</td>\n",
       "      <td>Batsman</td>\n",
       "      <td>0</td>\n",
       "      <td>0</td>\n",
       "      <td>0</td>\n",
       "      <td>0.00</td>\n",
       "      <td>...</td>\n",
       "      <td>125.64</td>\n",
       "      <td>2</td>\n",
       "      <td>0</td>\n",
       "      <td>0</td>\n",
       "      <td>0.00</td>\n",
       "      <td>0.00</td>\n",
       "      <td>0.00</td>\n",
       "      <td>2010</td>\n",
       "      <td>50000</td>\n",
       "      <td>750000</td>\n",
       "    </tr>\n",
       "    <tr>\n",
       "      <th>126</th>\n",
       "      <td>127</td>\n",
       "      <td>Younis Khan</td>\n",
       "      <td>2</td>\n",
       "      <td>PAK</td>\n",
       "      <td>RR</td>\n",
       "      <td>Batsman</td>\n",
       "      <td>6398</td>\n",
       "      <td>7</td>\n",
       "      <td>6814</td>\n",
       "      <td>75.78</td>\n",
       "      <td>...</td>\n",
       "      <td>42.85</td>\n",
       "      <td>0</td>\n",
       "      <td>0</td>\n",
       "      <td>0</td>\n",
       "      <td>0.00</td>\n",
       "      <td>0.00</td>\n",
       "      <td>0.00</td>\n",
       "      <td>2008</td>\n",
       "      <td>225000</td>\n",
       "      <td>225000</td>\n",
       "    </tr>\n",
       "    <tr>\n",
       "      <th>127</th>\n",
       "      <td>128</td>\n",
       "      <td>Yuvraj Singh</td>\n",
       "      <td>2</td>\n",
       "      <td>IND</td>\n",
       "      <td>KXIP+</td>\n",
       "      <td>Batsman</td>\n",
       "      <td>1775</td>\n",
       "      <td>9</td>\n",
       "      <td>8051</td>\n",
       "      <td>87.58</td>\n",
       "      <td>...</td>\n",
       "      <td>131.88</td>\n",
       "      <td>67</td>\n",
       "      <td>569</td>\n",
       "      <td>23</td>\n",
       "      <td>24.74</td>\n",
       "      <td>7.02</td>\n",
       "      <td>21.13</td>\n",
       "      <td>2011</td>\n",
       "      <td>400000</td>\n",
       "      <td>1800000</td>\n",
       "    </tr>\n",
       "    <tr>\n",
       "      <th>128</th>\n",
       "      <td>129</td>\n",
       "      <td>Zaheer Khan</td>\n",
       "      <td>2</td>\n",
       "      <td>IND</td>\n",
       "      <td>MI+</td>\n",
       "      <td>Bowler</td>\n",
       "      <td>1114</td>\n",
       "      <td>288</td>\n",
       "      <td>790</td>\n",
       "      <td>73.55</td>\n",
       "      <td>...</td>\n",
       "      <td>91.67</td>\n",
       "      <td>1</td>\n",
       "      <td>1783</td>\n",
       "      <td>65</td>\n",
       "      <td>27.43</td>\n",
       "      <td>7.75</td>\n",
       "      <td>21.26</td>\n",
       "      <td>2008</td>\n",
       "      <td>200000</td>\n",
       "      <td>450000</td>\n",
       "    </tr>\n",
       "    <tr>\n",
       "      <th>129</th>\n",
       "      <td>130</td>\n",
       "      <td>Zoysa, DNT</td>\n",
       "      <td>2</td>\n",
       "      <td>SL</td>\n",
       "      <td>DC</td>\n",
       "      <td>Bowler</td>\n",
       "      <td>288</td>\n",
       "      <td>64</td>\n",
       "      <td>343</td>\n",
       "      <td>95.81</td>\n",
       "      <td>...</td>\n",
       "      <td>122.22</td>\n",
       "      <td>0</td>\n",
       "      <td>99</td>\n",
       "      <td>2</td>\n",
       "      <td>49.50</td>\n",
       "      <td>9.00</td>\n",
       "      <td>33.00</td>\n",
       "      <td>2008</td>\n",
       "      <td>100000</td>\n",
       "      <td>110000</td>\n",
       "    </tr>\n",
       "  </tbody>\n",
       "</table>\n",
       "<p>15 rows × 26 columns</p>\n",
       "</div>"
      ],
      "text/plain": [
       "     Sl.NO.       PLAYER NAME  AGE COUNTRY   TEAM PLAYING ROLE  T-RUNS  \\\n",
       "115     116          Umar Gul    2     PAK    KKR       Bowler     541   \n",
       "116     117       Uthappa, RV    2     IND   RCB+      Batsman       0   \n",
       "117     118       Vaas, WPUJC    3      SL     DC       Bowler    3089   \n",
       "118     119     Van der Merwe    2      SA   RCB+   Allrounder       0   \n",
       "119     120  Venugopal Rao, Y    2     IND    DC+      Batsman       0   \n",
       "120     121       Vettori, DL    2      NZ    DD+   Allrounder    4486   \n",
       "121     122    Vinay Kumar, R    2     IND   RCB+       Bowler      11   \n",
       "122     123         Warne, SK    3     AUS     RR       Bowler    3154   \n",
       "123     124        Warner, DA    1     AUS     DD      Batsman     483   \n",
       "124     125         White, CL    2     AUS   RCB+      Batsman     146   \n",
       "125     126         Yadav, AS    2     IND     DC      Batsman       0   \n",
       "126     127       Younis Khan    2     PAK     RR      Batsman    6398   \n",
       "127     128      Yuvraj Singh    2     IND  KXIP+      Batsman    1775   \n",
       "128     129       Zaheer Khan    2     IND    MI+       Bowler    1114   \n",
       "129     130        Zoysa, DNT    2      SL     DC       Bowler     288   \n",
       "\n",
       "     T-WKTS  ODI-RUNS-S  ODI-SR-B  ...    SR-B  SIXERS  RUNS-C  WKTS  AVE-BL  \\\n",
       "115     157         368     69.04  ...  205.26       5     184    12   15.33   \n",
       "116       0         786     91.92  ...  126.17      59       0     0    0.00   \n",
       "117     355        2025     72.52  ...  110.96       3     355    18   19.72   \n",
       "118       0          39     95.12  ...  118.10       8     427    18   23.72   \n",
       "119       0         218     60.05  ...  118.24      37     321     6   53.50   \n",
       "120     359        2105     81.93  ...  107.08       2     878    28   31.36   \n",
       "121       1          43     43.87  ...  104.83       5    1664    61   27.28   \n",
       "122     708        1018     72.04  ...   92.52       6    1447    57   25.39   \n",
       "123       2         876     85.79  ...  135.76      44       0     0    0.00   \n",
       "124       5        2037     80.48  ...  132.09      29      70     0    0.00   \n",
       "125       0           0      0.00  ...  125.64       2       0     0    0.00   \n",
       "126       7        6814     75.78  ...   42.85       0       0     0    0.00   \n",
       "127       9        8051     87.58  ...  131.88      67     569    23   24.74   \n",
       "128     288         790     73.55  ...   91.67       1    1783    65   27.43   \n",
       "129      64         343     95.81  ...  122.22       0      99     2   49.50   \n",
       "\n",
       "      ECON  SR-BL  AUCTION YEAR  BASE PRICE  SOLD PRICE  \n",
       "115   8.17  11.20          2008      150000      150000  \n",
       "116   0.00   0.00          2008      200000      800000  \n",
       "117   7.55  15.67          2008      200000      200000  \n",
       "118   6.83  20.94          2011       50000       50000  \n",
       "119   9.44  34.00          2011      100000      700000  \n",
       "120   6.81  27.75          2008      250000      625000  \n",
       "121   8.24  19.87          2011      100000      475000  \n",
       "122   7.27  20.95          2008      450000      450000  \n",
       "123   0.00   0.00          2011      200000      750000  \n",
       "124  14.00   0.00          2008      100000      500000  \n",
       "125   0.00   0.00          2010       50000      750000  \n",
       "126   0.00   0.00          2008      225000      225000  \n",
       "127   7.02  21.13          2011      400000     1800000  \n",
       "128   7.75  21.26          2008      200000      450000  \n",
       "129   9.00  33.00          2008      100000      110000  \n",
       "\n",
       "[15 rows x 26 columns]"
      ]
     },
     "execution_count": 4,
     "metadata": {},
     "output_type": "execute_result"
    }
   ],
   "source": [
    "ipl.tail(15)"
   ]
  },
  {
   "cell_type": "code",
   "execution_count": null,
   "metadata": {
    "id": "XXfzsDbUOdV0"
   },
   "outputs": [],
   "source": [
    "ipl[50:60]"
   ]
  },
  {
   "cell_type": "code",
   "execution_count": null,
   "metadata": {
    "id": "LFomOWcEOqvm"
   },
   "outputs": [],
   "source": [
    "list(ipl.columns)"
   ]
  },
  {
   "cell_type": "code",
   "execution_count": null,
   "metadata": {
    "id": "6i-pAcl1PKNV"
   },
   "outputs": [],
   "source": [
    "ipl.info()"
   ]
  },
  {
   "cell_type": "code",
   "execution_count": null,
   "metadata": {
    "id": "wMaBnRwhPbo-"
   },
   "outputs": [],
   "source": [
    "ipl[:10]"
   ]
  },
  {
   "cell_type": "code",
   "execution_count": null,
   "metadata": {
    "id": "OUUWHYAxPvLf"
   },
   "outputs": [],
   "source": [
    "ipl[-20:]"
   ]
  },
  {
   "cell_type": "code",
   "execution_count": null,
   "metadata": {
    "id": "D_ndSxF7QDF5"
   },
   "outputs": [],
   "source": [
    "ipl.iloc[::,5:10]"
   ]
  },
  {
   "cell_type": "code",
   "execution_count": null,
   "metadata": {
    "id": "_WX5uN3lQbtk"
   },
   "outputs": [],
   "source": [
    "ipl.iloc[:5,5:10]"
   ]
  },
  {
   "cell_type": "code",
   "execution_count": null,
   "metadata": {
    "id": "SycJFqhtQmi4"
   },
   "outputs": [],
   "source": [
    "ipl['PLAYER NAME'][0:10]"
   ]
  },
  {
   "cell_type": "code",
   "execution_count": null,
   "metadata": {
    "id": "WXafYgRnQ-fv"
   },
   "outputs": [],
   "source": [
    "ipl[['PLAYER NAME','BASE PRICE','SOLD PRICE']][0:10]"
   ]
  },
  {
   "cell_type": "code",
   "execution_count": null,
   "metadata": {
    "id": "ZZTShh1CR2Dz"
   },
   "outputs": [],
   "source": [
    "ipl[['PLAYER NAME','COUNTRY','BASE PRICE','SOLD PRICE']].sort_values(\"SOLD PRICE\",ascending=False) [0:10]"
   ]
  },
  {
   "cell_type": "code",
   "execution_count": null,
   "metadata": {
    "id": "qSN6a9-aUEr2"
   },
   "outputs": [],
   "source": [
    "ipl['COUNTRY'].value_counts().to_frame()"
   ]
  },
  {
   "cell_type": "code",
   "execution_count": null,
   "metadata": {
    "id": "PjI_OfA9UxTi"
   },
   "outputs": [],
   "source": [
    "ipl['PLAYING ROLE'].value_counts()"
   ]
  },
  {
   "cell_type": "code",
   "execution_count": null,
   "metadata": {
    "id": "053AGxo9V6sr"
   },
   "outputs": [],
   "source": [
    "pd.crosstab(ipl[\"COUNTRY\"],ipl['PLAYING ROLE'])"
   ]
  },
  {
   "cell_type": "code",
   "execution_count": null,
   "metadata": {
    "id": "gePpHEvZWkRZ"
   },
   "outputs": [],
   "source": [
    "pd.crosstab(ipl[\"COUNTRY\"], ipl['PLAYING ROLE'])"
   ]
  },
  {
   "cell_type": "code",
   "execution_count": null,
   "metadata": {
    "id": "-V_udzWvXmsF"
   },
   "outputs": [],
   "source": [
    "ipl.mean()"
   ]
  },
  {
   "cell_type": "code",
   "execution_count": null,
   "metadata": {
    "id": "6EMjqdY2Xwkn"
   },
   "outputs": [],
   "source": [
    "ipl.median()"
   ]
  },
  {
   "cell_type": "code",
   "execution_count": null,
   "metadata": {
    "id": "GzPSZTGDX7TM"
   },
   "outputs": [],
   "source": [
    "ipl.std()"
   ]
  },
  {
   "cell_type": "code",
   "execution_count": null,
   "metadata": {
    "id": "B3rr2o6xX_-4"
   },
   "outputs": [],
   "source": [
    "ipl.var()"
   ]
  },
  {
   "cell_type": "code",
   "execution_count": null,
   "metadata": {
    "id": "2nRHP9W5Yu_X"
   },
   "outputs": [],
   "source": []
  },
  {
   "cell_type": "code",
   "execution_count": null,
   "metadata": {
    "id": "sf266OjlYFSP"
   },
   "outputs": [],
   "source": [
    "ipl.describe()"
   ]
  },
  {
   "cell_type": "code",
   "execution_count": null,
   "metadata": {
    "id": "6kYaGLEBZLw3"
   },
   "outputs": [],
   "source": [
    "ipl[[\"AGE\",'AVE']].mean()"
   ]
  },
  {
   "cell_type": "code",
   "execution_count": null,
   "metadata": {
    "id": "bEm5-9yka9J1"
   },
   "outputs": [],
   "source": [
    "ipl.skew()"
   ]
  },
  {
   "cell_type": "code",
   "execution_count": null,
   "metadata": {
    "id": "PQEEQqKMbBmu"
   },
   "outputs": [],
   "source": [
    "ipl.kurtosis()"
   ]
  },
  {
   "cell_type": "code",
   "execution_count": 5,
   "metadata": {
    "id": "9USiVv-FbRY1"
   },
   "outputs": [],
   "source": [
    "import matplotlib.pyplot as plt\n",
    "import numpy as np\n",
    "import seaborn as sn\n",
    "%matplotlib inline"
   ]
  },
  {
   "cell_type": "code",
   "execution_count": 6,
   "metadata": {
    "id": "HiorqWoybUTJ"
   },
   "outputs": [
    {
     "data": {
      "text/plain": [
       "<BarContainer object of 130 artists>"
      ]
     },
     "execution_count": 6,
     "metadata": {},
     "output_type": "execute_result"
    },
    {
     "data": {
      "image/png": "[encoded data removed]",
      "text/plain": [
       "<Figure size 432x288 with 1 Axes>"
      ]
     },
     "metadata": {
      "needs_background": "light"
     },
     "output_type": "display_data"
    }
   ],
   "source": [
    "plt.bar(ipl['PLAYING ROLE'],ipl['SOLD PRICE'])"
   ]
  },
  {
   "cell_type": "code",
   "execution_count": 7,
   "metadata": {
    "id": "lex2jKRWqEYc"
   },
   "outputs": [
    {
     "data": {
      "text/plain": [
       "<AxesSubplot:xlabel='PLAYING ROLE', ylabel='SOLD PRICE'>"
      ]
     },
     "execution_count": 7,
     "metadata": {},
     "output_type": "execute_result"
    },
    {
     "data": {
      "image/png": "[encoded data removed]",
      "text/plain": [
       "<Figure size 432x288 with 1 Axes>"
      ]
     },
     "metadata": {
      "needs_background": "light"
     },
     "output_type": "display_data"
    }
   ],
   "source": [
    "sn.barplot(x='PLAYING ROLE',y='SOLD PRICE', data=ipl)"
   ]
  },
  {
   "cell_type": "code",
   "execution_count": 8,
   "metadata": {
    "id": "ukK3EhP_tju1"
   },
   "outputs": [
    {
     "data": {
      "image/png": "[encoded data removed]",
      "text/plain": [
       "<Figure size 432x288 with 1 Axes>"
      ]
     },
     "metadata": {
      "needs_background": "light"
     },
     "output_type": "display_data"
    }
   ],
   "source": [
    "plt.hist(ipl['SOLD PRICE']);"
   ]
  },
  {
   "cell_type": "code",
   "execution_count": 9,
   "metadata": {
    "id": "CjU8vyVxtyJX"
   },
   "outputs": [
    {
     "data": {
      "image/png": "[encoded data removed]",
      "text/plain": [
       "<Figure size 432x288 with 1 Axes>"
      ]
     },
     "metadata": {
      "needs_background": "light"
     },
     "output_type": "display_data"
    }
   ],
   "source": [
    "plt.hist(ipl['SOLD PRICE'],bins=20);"
   ]
  },
  {
   "cell_type": "code",
   "execution_count": 10,
   "metadata": {
    "id": "Uo32DRv5uUBT"
   },
   "outputs": [
    {
     "name": "stderr",
     "output_type": "stream",
     "text": [
      "C:\\ProgramData\\Anaconda3\\lib\\site-packages\\seaborn\\distributions.py:2619: FutureWarning: `distplot` is a deprecated function and will be removed in a future version. Please adapt your code to use either `displot` (a figure-level function with similar flexibility) or `histplot` (an axes-level function for histograms).\n",
      "  warnings.warn(msg, FutureWarning)\n"
     ]
    },
    {
     "data": {
      "image/png": "[encoded data removed]",
      "text/plain": [
       "<Figure size 432x288 with 1 Axes>"
      ]
     },
     "metadata": {
      "needs_background": "light"
     },
     "output_type": "display_data"
    }
   ],
   "source": [
    "sn.distplot(ipl['SOLD PRICE']);"
   ]
  },
  {
   "cell_type": "code",
   "execution_count": 11,
   "metadata": {
    "id": "OChaxDDgutl2"
   },
   "outputs": [
    {
     "name": "stderr",
     "output_type": "stream",
     "text": [
      "C:\\ProgramData\\Anaconda3\\lib\\site-packages\\seaborn\\_decorators.py:36: FutureWarning: Pass the following variable as a keyword arg: x. From version 0.12, the only valid positional argument will be `data`, and passing other arguments without an explicit keyword will result in an error or misinterpretation.\n",
      "  warnings.warn(\n"
     ]
    },
    {
     "data": {
      "image/png": "[encoded data removed]",
      "text/plain": [
       "<Figure size 432x288 with 1 Axes>"
      ]
     },
     "metadata": {
      "needs_background": "light"
     },
     "output_type": "display_data"
    }
   ],
   "source": [
    "sn.boxplot(ipl['SOLD PRICE']);"
   ]
  },
  {
   "cell_type": "code",
   "execution_count": 12,
   "metadata": {
    "id": "mGg2Vcclu_4a"
   },
   "outputs": [
    {
     "data": {
      "image/png": "[encoded data removed]",
      "text/plain": [
       "<Figure size 432x288 with 1 Axes>"
      ]
     },
     "metadata": {
      "needs_background": "light"
     },
     "output_type": "display_data"
    }
   ],
   "source": [
    "sn.boxplot(x='PLAYING ROLE', y='SOLD PRICE', data=ipl);"
   ]
  },
  {
   "cell_type": "code",
   "execution_count": 13,
   "metadata": {
    "id": "G_uqSgAivZ9p"
   },
   "outputs": [
    {
     "data": {
      "image/png": "[encoded data removed]",
      "text/plain": [
       "<Figure size 432x288 with 1 Axes>"
      ]
     },
     "metadata": {
      "needs_background": "light"
     },
     "output_type": "display_data"
    }
   ],
   "source": [
    "sn.countplot(x=\"PLAYING ROLE\",data=ipl);"
   ]
  },
  {
   "cell_type": "code",
   "execution_count": 14,
   "metadata": {
    "id": "V7kbzP3_yva5"
   },
   "outputs": [
    {
     "data": {
      "image/png": "[encoded data removed]",
      "text/plain": [
       "<Figure size 432x288 with 1 Axes>"
      ]
     },
     "metadata": {
      "needs_background": "light"
     },
     "output_type": "display_data"
    }
   ],
   "source": [
    "sn.lineplot(x='SOLD PRICE', y='BASE PRICE', data=ipl);"
   ]
  },
  {
   "cell_type": "code",
   "execution_count": 15,
   "metadata": {
    "id": "glBbxaY4y3a8"
   },
   "outputs": [
    {
     "data": {
      "text/plain": [
       "<AxesSubplot:xlabel='SOLD PRICE', ylabel='BASE PRICE'>"
      ]
     },
     "execution_count": 15,
     "metadata": {},
     "output_type": "execute_result"
    },
    {
     "data": {
      "image/png": "[encoded data removed]",
      "text/plain": [
       "<Figure size 432x288 with 1 Axes>"
      ]
     },
     "metadata": {
      "needs_background": "light"
     },
     "output_type": "display_data"
    }
   ],
   "source": [
    "sn.scatterplot(x='SOLD PRICE', y='BASE PRICE', data=ipl, )"
   ]
  },
  {
   "cell_type": "code",
   "execution_count": 16,
   "metadata": {
    "id": "V5BxrXyW-NcB"
   },
   "outputs": [
    {
     "data": {
      "text/plain": [
       "['Sl.NO.',\n",
       " 'PLAYER NAME',\n",
       " 'AGE',\n",
       " 'COUNTRY',\n",
       " 'TEAM',\n",
       " 'PLAYING ROLE',\n",
       " 'T-RUNS',\n",
       " 'T-WKTS',\n",
       " 'ODI-RUNS-S',\n",
       " 'ODI-SR-B',\n",
       " 'ODI-WKTS',\n",
       " 'ODI-SR-BL',\n",
       " 'CAPTAINCY EXP',\n",
       " 'RUNS-S',\n",
       " 'HS',\n",
       " 'AVE',\n",
       " 'SR-B',\n",
       " 'SIXERS',\n",
       " 'RUNS-C',\n",
       " 'WKTS',\n",
       " 'AVE-BL',\n",
       " 'ECON',\n",
       " 'SR-BL',\n",
       " 'AUCTION YEAR',\n",
       " 'BASE PRICE',\n",
       " 'SOLD PRICE']"
      ]
     },
     "execution_count": 16,
     "metadata": {},
     "output_type": "execute_result"
    }
   ],
   "source": [
    "list(ipl.columns)"
   ]
  },
  {
   "cell_type": "code",
   "execution_count": 17,
   "metadata": {
    "id": "WsoazD2K-cL0"
   },
   "outputs": [
    {
     "name": "stdout",
     "output_type": "stream",
     "text": [
      "<class 'pandas.core.frame.DataFrame'>\n",
      "RangeIndex: 130 entries, 0 to 129\n",
      "Data columns (total 26 columns):\n",
      " #   Column         Non-Null Count  Dtype  \n",
      "---  ------         --------------  -----  \n",
      " 0   Sl.NO.         130 non-null    int64  \n",
      " 1   PLAYER NAME    130 non-null    object \n",
      " 2   AGE            130 non-null    int64  \n",
      " 3   COUNTRY        130 non-null    object \n",
      " 4   TEAM           130 non-null    object \n",
      " 5   PLAYING ROLE   130 non-null    object \n",
      " 6   T-RUNS         130 non-null    int64  \n",
      " 7   T-WKTS         130 non-null    int64  \n",
      " 8   ODI-RUNS-S     130 non-null    int64  \n",
      " 9   ODI-SR-B       130 non-null    float64\n",
      " 10  ODI-WKTS       130 non-null    int64  \n",
      " 11  ODI-SR-BL      130 non-null    float64\n",
      " 12  CAPTAINCY EXP  130 non-null    int64  \n",
      " 13  RUNS-S         130 non-null    int64  \n",
      " 14  HS             130 non-null    int64  \n",
      " 15  AVE            130 non-null    float64\n",
      " 16  SR-B           130 non-null    float64\n",
      " 17  SIXERS         130 non-null    int64  \n",
      " 18  RUNS-C         130 non-null    int64  \n",
      " 19  WKTS           130 non-null    int64  \n",
      " 20  AVE-BL         130 non-null    float64\n",
      " 21  ECON           130 non-null    float64\n",
      " 22  SR-BL          130 non-null    float64\n",
      " 23  AUCTION YEAR   130 non-null    int64  \n",
      " 24  BASE PRICE     130 non-null    int64  \n",
      " 25  SOLD PRICE     130 non-null    int64  \n",
      "dtypes: float64(7), int64(15), object(4)\n",
      "memory usage: 26.5+ KB\n"
     ]
    }
   ],
   "source": [
    "ipl.info()"
   ]
  },
  {
   "cell_type": "code",
   "execution_count": 18,
   "metadata": {
    "id": "SR0OIPYy-EET"
   },
   "outputs": [],
   "source": [
    "features=['RUNS-S','SIXERS','BASE PRICE','SOLD PRICE']"
   ]
  },
  {
   "cell_type": "code",
   "execution_count": 19,
   "metadata": {
    "id": "-M8cShre-7h1"
   },
   "outputs": [
    {
     "data": {
      "text/plain": [
       "<AxesSubplot:>"
      ]
     },
     "execution_count": 19,
     "metadata": {},
     "output_type": "execute_result"
    },
    {
     "data": {
      "image/png": "[encoded data removed]",
      "text/plain": [
       "<Figure size 432x288 with 2 Axes>"
      ]
     },
     "metadata": {
      "needs_background": "light"
     },
     "output_type": "display_data"
    }
   ],
   "source": [
    "sn.heatmap(ipl[features].corr(),annot=True)"
   ]
  },
  {
   "cell_type": "code",
   "execution_count": 20,
   "metadata": {
    "id": "WgxEbVA6nx2n"
   },
   "outputs": [
    {
     "name": "stderr",
     "output_type": "stream",
     "text": [
      "C:\\ProgramData\\Anaconda3\\lib\\site-packages\\seaborn\\axisgrid.py:2076: UserWarning: The `size` parameter has been renamed to `height`; please update your code.\n",
      "  warnings.warn(msg, UserWarning)\n"
     ]
    },
    {
     "data": {
      "text/plain": [
       "<seaborn.axisgrid.PairGrid at 0x1843d7f50d0>"
      ]
     },
     "execution_count": 20,
     "metadata": {},
     "output_type": "execute_result"
    },
    {
     "data": {
      "image/png": "[encoded data removed]",
      "text/plain": [
       "<Figure size 576x576 with 20 Axes>"
      ]
     },
     "metadata": {
      "needs_background": "light"
     },
     "output_type": "display_data"
    }
   ],
   "source": [
    "sn.pairplot(ipl[features],size=2)"
   ]
  },
  {
   "cell_type": "code",
   "execution_count": 21,
   "metadata": {
    "id": "ZBbcKU8UpUsS"
   },
   "outputs": [
    {
     "data": {
      "text/html": [
       "<div>\n",
       "<style scoped>\n",
       "    .dataframe tbody tr th:only-of-type {\n",
       "        vertical-align: middle;\n",
       "    }\n",
       "\n",
       "    .dataframe tbody tr th {\n",
       "        vertical-align: top;\n",
       "    }\n",
       "\n",
       "    .dataframe thead th {\n",
       "        text-align: right;\n",
       "    }\n",
       "</style>\n",
       "<table border=\"1\" class=\"dataframe\">\n",
       "  <thead>\n",
       "    <tr style=\"text-align: right;\">\n",
       "      <th></th>\n",
       "      <th>RUNS-S</th>\n",
       "      <th>SIXERS</th>\n",
       "      <th>BASE PRICE</th>\n",
       "      <th>SOLD PRICE</th>\n",
       "    </tr>\n",
       "  </thead>\n",
       "  <tbody>\n",
       "    <tr>\n",
       "      <th>RUNS-S</th>\n",
       "      <td>1.000000</td>\n",
       "      <td>0.866213</td>\n",
       "      <td>0.178185</td>\n",
       "      <td>0.478510</td>\n",
       "    </tr>\n",
       "    <tr>\n",
       "      <th>SIXERS</th>\n",
       "      <td>0.866213</td>\n",
       "      <td>1.000000</td>\n",
       "      <td>0.161889</td>\n",
       "      <td>0.450609</td>\n",
       "    </tr>\n",
       "    <tr>\n",
       "      <th>BASE PRICE</th>\n",
       "      <td>0.178185</td>\n",
       "      <td>0.161889</td>\n",
       "      <td>1.000000</td>\n",
       "      <td>0.523510</td>\n",
       "    </tr>\n",
       "    <tr>\n",
       "      <th>SOLD PRICE</th>\n",
       "      <td>0.478510</td>\n",
       "      <td>0.450609</td>\n",
       "      <td>0.523510</td>\n",
       "      <td>1.000000</td>\n",
       "    </tr>\n",
       "  </tbody>\n",
       "</table>\n",
       "</div>"
      ],
      "text/plain": [
       "              RUNS-S    SIXERS  BASE PRICE  SOLD PRICE\n",
       "RUNS-S      1.000000  0.866213    0.178185    0.478510\n",
       "SIXERS      0.866213  1.000000    0.161889    0.450609\n",
       "BASE PRICE  0.178185  0.161889    1.000000    0.523510\n",
       "SOLD PRICE  0.478510  0.450609    0.523510    1.000000"
      ]
     },
     "execution_count": 21,
     "metadata": {},
     "output_type": "execute_result"
    }
   ],
   "source": [
    "ipl[features].corr()"
   ]
  },
  {
   "cell_type": "code",
   "execution_count": 22,
   "metadata": {
    "id": "eFDzgw-gp8Hv"
   },
   "outputs": [
    {
     "data": {
      "text/html": [
       "<div>\n",
       "<style scoped>\n",
       "    .dataframe tbody tr th:only-of-type {\n",
       "        vertical-align: middle;\n",
       "    }\n",
       "\n",
       "    .dataframe tbody tr th {\n",
       "        vertical-align: top;\n",
       "    }\n",
       "\n",
       "    .dataframe thead th {\n",
       "        text-align: right;\n",
       "    }\n",
       "</style>\n",
       "<table border=\"1\" class=\"dataframe\">\n",
       "  <thead>\n",
       "    <tr style=\"text-align: right;\">\n",
       "      <th></th>\n",
       "      <th>PLAYER NAME</th>\n",
       "      <th>PLAYING ROLE</th>\n",
       "      <th>SOLD PRICE</th>\n",
       "    </tr>\n",
       "  </thead>\n",
       "  <tbody>\n",
       "    <tr>\n",
       "      <th>15</th>\n",
       "      <td>Dhoni, MS</td>\n",
       "      <td>W. Keeper</td>\n",
       "      <td>1500000</td>\n",
       "    </tr>\n",
       "    <tr>\n",
       "      <th>23</th>\n",
       "      <td>Flintoff, A</td>\n",
       "      <td>Allrounder</td>\n",
       "      <td>1550000</td>\n",
       "    </tr>\n",
       "    <tr>\n",
       "      <th>50</th>\n",
       "      <td>Kohli, V</td>\n",
       "      <td>Batsman</td>\n",
       "      <td>1800000</td>\n",
       "    </tr>\n",
       "    <tr>\n",
       "      <th>83</th>\n",
       "      <td>Pietersen, KP</td>\n",
       "      <td>Batsman</td>\n",
       "      <td>1550000</td>\n",
       "    </tr>\n",
       "    <tr>\n",
       "      <th>93</th>\n",
       "      <td>Sehwag, V</td>\n",
       "      <td>Batsman</td>\n",
       "      <td>1800000</td>\n",
       "    </tr>\n",
       "    <tr>\n",
       "      <th>111</th>\n",
       "      <td>Tendulkar, SR</td>\n",
       "      <td>Batsman</td>\n",
       "      <td>1800000</td>\n",
       "    </tr>\n",
       "    <tr>\n",
       "      <th>113</th>\n",
       "      <td>Tiwary, SS</td>\n",
       "      <td>Batsman</td>\n",
       "      <td>1600000</td>\n",
       "    </tr>\n",
       "    <tr>\n",
       "      <th>127</th>\n",
       "      <td>Yuvraj Singh</td>\n",
       "      <td>Batsman</td>\n",
       "      <td>1800000</td>\n",
       "    </tr>\n",
       "  </tbody>\n",
       "</table>\n",
       "</div>"
      ],
      "text/plain": [
       "       PLAYER NAME PLAYING ROLE  SOLD PRICE\n",
       "15       Dhoni, MS    W. Keeper     1500000\n",
       "23     Flintoff, A   Allrounder     1550000\n",
       "50        Kohli, V      Batsman     1800000\n",
       "83   Pietersen, KP      Batsman     1550000\n",
       "93       Sehwag, V      Batsman     1800000\n",
       "111  Tendulkar, SR      Batsman     1800000\n",
       "113     Tiwary, SS      Batsman     1600000\n",
       "127   Yuvraj Singh      Batsman     1800000"
      ]
     },
     "execution_count": 22,
     "metadata": {},
     "output_type": "execute_result"
    }
   ],
   "source": [
    "ipl[ipl['SOLD PRICE']>1350000][['PLAYER NAME','PLAYING ROLE', 'SOLD PRICE']]"
   ]
  },
  {
   "cell_type": "code",
   "execution_count": 23,
   "metadata": {
    "id": "Ki6mrnQpsKTC"
   },
   "outputs": [
    {
     "data": {
      "text/html": [
       "<div>\n",
       "<style scoped>\n",
       "    .dataframe tbody tr th:only-of-type {\n",
       "        vertical-align: middle;\n",
       "    }\n",
       "\n",
       "    .dataframe tbody tr th {\n",
       "        vertical-align: top;\n",
       "    }\n",
       "\n",
       "    .dataframe thead th {\n",
       "        text-align: right;\n",
       "    }\n",
       "</style>\n",
       "<table border=\"1\" class=\"dataframe\">\n",
       "  <thead>\n",
       "    <tr style=\"text-align: right;\">\n",
       "      <th></th>\n",
       "      <th>const</th>\n",
       "      <th>SIXERS</th>\n",
       "    </tr>\n",
       "  </thead>\n",
       "  <tbody>\n",
       "    <tr>\n",
       "      <th>0</th>\n",
       "      <td>1.0</td>\n",
       "      <td>0</td>\n",
       "    </tr>\n",
       "    <tr>\n",
       "      <th>1</th>\n",
       "      <td>1.0</td>\n",
       "      <td>0</td>\n",
       "    </tr>\n",
       "    <tr>\n",
       "      <th>2</th>\n",
       "      <td>1.0</td>\n",
       "      <td>5</td>\n",
       "    </tr>\n",
       "    <tr>\n",
       "      <th>3</th>\n",
       "      <td>1.0</td>\n",
       "      <td>0</td>\n",
       "    </tr>\n",
       "    <tr>\n",
       "      <th>4</th>\n",
       "      <td>1.0</td>\n",
       "      <td>28</td>\n",
       "    </tr>\n",
       "  </tbody>\n",
       "</table>\n",
       "</div>"
      ],
      "text/plain": [
       "   const  SIXERS\n",
       "0    1.0       0\n",
       "1    1.0       0\n",
       "2    1.0       5\n",
       "3    1.0       0\n",
       "4    1.0      28"
      ]
     },
     "execution_count": 23,
     "metadata": {},
     "output_type": "execute_result"
    }
   ],
   "source": [
    "import statsmodels.api as sm\n",
    "x = sm.add_constant( ipl['SIXERS'] )\n",
    "x.head(5)"
   ]
  },
  {
   "cell_type": "code",
   "execution_count": 24,
   "metadata": {
    "id": "yrQhqaHhwNdb"
   },
   "outputs": [
    {
     "data": {
      "text/plain": [
       "0        50000\n",
       "1        50000\n",
       "2       350000\n",
       "3       850000\n",
       "4       800000\n",
       "        ...   \n",
       "125     750000\n",
       "126     225000\n",
       "127    1800000\n",
       "128     450000\n",
       "129     110000\n",
       "Name: SOLD PRICE, Length: 130, dtype: int64"
      ]
     },
     "execution_count": 24,
     "metadata": {},
     "output_type": "execute_result"
    }
   ],
   "source": [
    "y=ipl['SOLD PRICE']\n",
    "y"
   ]
  },
  {
   "cell_type": "markdown",
   "metadata": {
    "id": "jWjITlx6wM9C"
   },
   "source": []
  },
  {
   "cell_type": "code",
   "execution_count": 25,
   "metadata": {
    "id": "8qFooVU7suN5"
   },
   "outputs": [],
   "source": [
    "model=sm.OLS(y, x).fit()\n"
   ]
  },
  {
   "cell_type": "code",
   "execution_count": 26,
   "metadata": {
    "id": "V5zaNvb7bFdf"
   },
   "outputs": [
    {
     "name": "stdout",
     "output_type": "stream",
     "text": [
      "const     385115.381319\n",
      "SIXERS      7693.043665\n",
      "dtype: float64\n"
     ]
    }
   ],
   "source": [
    "print(model.params)"
   ]
  },
  {
   "cell_type": "code",
   "execution_count": 27,
   "metadata": {
    "id": "gOv22DJmbPuQ"
   },
   "outputs": [
    {
     "data": {
      "text/html": [
       "<table class=\"simpletable\">\n",
       "<tr>\n",
       "        <td>Model:</td>               <td>OLS</td>         <td>Adj. R-squared:</td>      <td>0.197</td>  \n",
       "</tr>\n",
       "<tr>\n",
       "  <td>Dependent Variable:</td>    <td>SOLD PRICE</td>           <td>AIC:</td>          <td>3700.5999</td>\n",
       "</tr>\n",
       "<tr>\n",
       "         <td>Date:</td>        <td>2023-10-25 09:25</td>        <td>BIC:</td>          <td>3706.3350</td>\n",
       "</tr>\n",
       "<tr>\n",
       "   <td>No. Observations:</td>         <td>130</td>         <td>Log-Likelihood:</td>     <td>-1848.3</td> \n",
       "</tr>\n",
       "<tr>\n",
       "       <td>Df Model:</td>              <td>1</td>           <td>F-statistic:</td>        <td>32.61</td>  \n",
       "</tr>\n",
       "<tr>\n",
       "     <td>Df Residuals:</td>           <td>128</td>       <td>Prob (F-statistic):</td>  <td>7.47e-08</td> \n",
       "</tr>\n",
       "<tr>\n",
       "      <td>R-squared:</td>            <td>0.203</td>            <td>Scale:</td>        <td>1.3292e+11</td>\n",
       "</tr>\n",
       "</table>\n",
       "<table class=\"simpletable\">\n",
       "<tr>\n",
       "     <td></td>       <th>Coef.</th>     <th>Std.Err.</th>     <th>t</th>    <th>P>|t|</th>   <th>[0.025</th>      <th>0.975]</th>   \n",
       "</tr>\n",
       "<tr>\n",
       "  <th>const</th>  <td>385115.3813</td> <td>39881.2131</td> <td>9.6566</td> <td>0.0000</td> <td>306203.5875</td> <td>464027.1752</td>\n",
       "</tr>\n",
       "<tr>\n",
       "  <th>SIXERS</th>  <td>7693.0437</td>   <td>1347.1301</td> <td>5.7107</td> <td>0.0000</td>  <td>5027.5165</td>  <td>10358.5708</td> \n",
       "</tr>\n",
       "</table>\n",
       "<table class=\"simpletable\">\n",
       "<tr>\n",
       "     <td>Omnibus:</td>    <td>27.994</td>  <td>Durbin-Watson:</td>    <td>1.997</td>\n",
       "</tr>\n",
       "<tr>\n",
       "  <td>Prob(Omnibus):</td>  <td>0.000</td> <td>Jarque-Bera (JB):</td> <td>38.591</td>\n",
       "</tr>\n",
       "<tr>\n",
       "       <td>Skew:</td>      <td>1.159</td>     <td>Prob(JB):</td>      <td>0.000</td>\n",
       "</tr>\n",
       "<tr>\n",
       "     <td>Kurtosis:</td>    <td>4.323</td>  <td>Condition No.:</td>     <td>37</td>  \n",
       "</tr>\n",
       "</table>"
      ],
      "text/plain": [
       "<class 'statsmodels.iolib.summary2.Summary'>\n",
       "\"\"\"\n",
       "                  Results: Ordinary least squares\n",
       "===================================================================\n",
       "Model:              OLS              Adj. R-squared:     0.197     \n",
       "Dependent Variable: SOLD PRICE       AIC:                3700.5999 \n",
       "Date:               2023-10-25 09:25 BIC:                3706.3350 \n",
       "No. Observations:   130              Log-Likelihood:     -1848.3   \n",
       "Df Model:           1                F-statistic:        32.61     \n",
       "Df Residuals:       128              Prob (F-statistic): 7.47e-08  \n",
       "R-squared:          0.203            Scale:              1.3292e+11\n",
       "-------------------------------------------------------------------\n",
       "          Coef.     Std.Err.    t    P>|t|     [0.025      0.975]  \n",
       "-------------------------------------------------------------------\n",
       "const  385115.3813 39881.2131 9.6566 0.0000 306203.5875 464027.1752\n",
       "SIXERS   7693.0437  1347.1301 5.7107 0.0000   5027.5165  10358.5708\n",
       "-------------------------------------------------------------------\n",
       "Omnibus:              27.994        Durbin-Watson:           1.997 \n",
       "Prob(Omnibus):        0.000         Jarque-Bera (JB):        38.591\n",
       "Skew:                 1.159         Prob(JB):                0.000 \n",
       "Kurtosis:             4.323         Condition No.:           37    \n",
       "===================================================================\n",
       "\n",
       "\"\"\""
      ]
     },
     "execution_count": 27,
     "metadata": {},
     "output_type": "execute_result"
    }
   ],
   "source": [
    "model.summary2()"
   ]
  },
  {
   "cell_type": "code",
   "execution_count": null,
   "metadata": {},
   "outputs": [],
   "source": []
  }
 ],
 "metadata": {
  "colab": {
   "private_outputs": true,
   "provenance": []
  },
  "kernelspec": {
   "display_name": "Python 3 (ipykernel)",
   "language": "python",
   "name": "python3"
  },
  "language_info": {
   "codemirror_mode": {
    "name": "ipython",
    "version": 3
   },
   "file_extension": ".py",
   "mimetype": "text/x-python",
   "name": "python",
   "nbconvert_exporter": "python",
   "pygments_lexer": "ipython3",
   "version": "3.9.12"
  }
 },
 "nbformat": 4,
 "nbformat_minor": 1
}
