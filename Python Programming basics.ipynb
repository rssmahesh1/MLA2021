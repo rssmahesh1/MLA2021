{
  "nbformat": 4,
  "nbformat_minor": 0,
  "metadata": {
    "colab": {
      "name": "Copy of Python.ipynb",
      "provenance": [],
      "collapsed_sections": [
        "-762zaE_4ECR",
        "SsvN4sDv7ORE",
        "WeCqwT8n913i"
      ]
    },
    "kernelspec": {
      "name": "python3",
      "display_name": "Python 3"
    }
  },
  "cells": [
    {
      "cell_type": "markdown",
      "source": [
        "# Data Types"
      ],
      "metadata": {
        "id": "w6s6hcxh9S90"
      }
    },
    {
      "cell_type": "code",
      "source": [
        ""
      ],
      "metadata": {
        "id": "D1rIaaJx92SO"
      },
      "execution_count": null,
      "outputs": []
    },
    {
      "cell_type": "code",
      "metadata": {
        "id": "IibpkXO3hupU",
        "colab": {
          "base_uri": "https://localhost:8080/",
          "height": 34
        },
        "outputId": "972df0b7-bfb2-4fa1-dbec-70040ad4ae57"
      },
      "source": [
        "print('hello world')"
      ],
      "execution_count": null,
      "outputs": [
        {
          "output_type": "stream",
          "text": [
            "hello world\n"
          ],
          "name": "stdout"
        }
      ]
    },
    {
      "cell_type": "code",
      "metadata": {
        "id": "nblbX_52jVLh",
        "colab": {
          "base_uri": "https://localhost:8080/",
          "height": 34
        },
        "outputId": "4d0a4924-e320-4f69-f7af-df78118983de"
      },
      "source": [
        "2 + 3"
      ],
      "execution_count": null,
      "outputs": [
        {
          "output_type": "execute_result",
          "data": {
            "text/plain": [
              "5"
            ]
          },
          "metadata": {
            "tags": []
          },
          "execution_count": 29
        }
      ]
    },
    {
      "cell_type": "code",
      "metadata": {
        "id": "9uPOGNl8jY9k",
        "colab": {
          "base_uri": "https://localhost:8080/",
          "height": 34
        },
        "outputId": "fdd2bad6-e555-4079-dccb-615710c6a701"
      },
      "source": [
        "4 - 2"
      ],
      "execution_count": null,
      "outputs": [
        {
          "output_type": "execute_result",
          "data": {
            "text/plain": [
              "2"
            ]
          },
          "metadata": {
            "tags": []
          },
          "execution_count": 30
        }
      ]
    },
    {
      "cell_type": "code",
      "metadata": {
        "id": "vUPlmuLWja1i",
        "colab": {
          "base_uri": "https://localhost:8080/",
          "height": 34
        },
        "outputId": "da7eb0d5-8ada-4aae-b68b-d0bbcefa0ff3"
      },
      "source": [
        "3 * 2"
      ],
      "execution_count": null,
      "outputs": [
        {
          "output_type": "execute_result",
          "data": {
            "text/plain": [
              "6"
            ]
          },
          "metadata": {
            "tags": []
          },
          "execution_count": 31
        }
      ]
    },
    {
      "cell_type": "code",
      "metadata": {
        "id": "4Uu_mcHxjgRa",
        "colab": {
          "base_uri": "https://localhost:8080/",
          "height": 34
        },
        "outputId": "235c3be8-dae0-421b-be81-8e4d3111e514"
      },
      "source": [
        "9/4"
      ],
      "execution_count": null,
      "outputs": [
        {
          "output_type": "execute_result",
          "data": {
            "text/plain": [
              "2.25"
            ]
          },
          "metadata": {
            "tags": []
          },
          "execution_count": 32
        }
      ]
    },
    {
      "cell_type": "code",
      "metadata": {
        "id": "1HBJ_wHHjqpz",
        "colab": {
          "base_uri": "https://localhost:8080/",
          "height": 34
        },
        "outputId": "e826e5f2-f4d4-4bb2-91ae-20bf22f9c3af"
      },
      "source": [
        "9//4"
      ],
      "execution_count": null,
      "outputs": [
        {
          "output_type": "execute_result",
          "data": {
            "text/plain": [
              "2"
            ]
          },
          "metadata": {
            "tags": []
          },
          "execution_count": 33
        }
      ]
    },
    {
      "cell_type": "code",
      "metadata": {
        "id": "CD6tb125juXE",
        "colab": {
          "base_uri": "https://localhost:8080/",
          "height": 34
        },
        "outputId": "c817800a-2919-49be-b237-69574487f9b0"
      },
      "source": [
        "9%4"
      ],
      "execution_count": null,
      "outputs": [
        {
          "output_type": "execute_result",
          "data": {
            "text/plain": [
              "1"
            ]
          },
          "metadata": {
            "tags": []
          },
          "execution_count": 34
        }
      ]
    },
    {
      "cell_type": "code",
      "metadata": {
        "id": "507gzCjLjygT",
        "colab": {
          "base_uri": "https://localhost:8080/",
          "height": 34
        },
        "outputId": "01001b4a-2598-48dd-c742-793154ef3438"
      },
      "source": [
        "2**4"
      ],
      "execution_count": null,
      "outputs": [
        {
          "output_type": "execute_result",
          "data": {
            "text/plain": [
              "16"
            ]
          },
          "metadata": {
            "tags": []
          },
          "execution_count": 35
        }
      ]
    },
    {
      "cell_type": "markdown",
      "metadata": {
        "id": "sQ3fr03fmbci"
      },
      "source": [
        "<h1>Variables</h1>"
      ]
    },
    {
      "cell_type": "code",
      "metadata": {
        "id": "I5I7XuIXnuj6"
      },
      "source": [
        "a = 2"
      ],
      "execution_count": null,
      "outputs": []
    },
    {
      "cell_type": "code",
      "metadata": {
        "id": "8-2w_RpQnwXk",
        "colab": {
          "base_uri": "https://localhost:8080/",
          "height": 34
        },
        "outputId": "db5a50a5-0234-4586-e204-38774923531a"
      },
      "source": [
        "a"
      ],
      "execution_count": null,
      "outputs": [
        {
          "output_type": "execute_result",
          "data": {
            "text/plain": [
              "2"
            ]
          },
          "metadata": {
            "tags": []
          },
          "execution_count": 37
        }
      ]
    },
    {
      "cell_type": "code",
      "metadata": {
        "id": "ihwrf_m2qDFF",
        "colab": {
          "base_uri": "https://localhost:8080/",
          "height": 34
        },
        "outputId": "cec3481b-73b2-440d-9374-91aa4931623c"
      },
      "source": [
        "print('hello')"
      ],
      "execution_count": null,
      "outputs": [
        {
          "output_type": "stream",
          "text": [
            "hello\n"
          ],
          "name": "stdout"
        }
      ]
    },
    {
      "cell_type": "markdown",
      "metadata": {
        "id": "auVyTqVVfHMl"
      },
      "source": [
        "# Static vs. Dynamic Typing"
      ]
    },
    {
      "cell_type": "code",
      "metadata": {
        "id": "BN9mAmQ-fDqj"
      },
      "source": [
        "#dynamic typing\n",
        "a = 10"
      ],
      "execution_count": null,
      "outputs": []
    },
    {
      "cell_type": "code",
      "metadata": {
        "id": "LBlzW3ObiKtL",
        "colab": {
          "base_uri": "https://localhost:8080/",
          "height": 35
        },
        "outputId": "9a5de4b5-b7ea-4317-eb19-51c2dd903ad7"
      },
      "source": [
        "a"
      ],
      "execution_count": null,
      "outputs": [
        {
          "output_type": "execute_result",
          "data": {
            "text/plain": [
              "10"
            ]
          },
          "metadata": {
            "tags": []
          },
          "execution_count": 2
        }
      ]
    },
    {
      "cell_type": "code",
      "metadata": {
        "id": "d-gM9DpZiKhd"
      },
      "source": [
        "#static typing\n",
        "int a;\n",
        "a = 20;"
      ],
      "execution_count": null,
      "outputs": []
    },
    {
      "cell_type": "markdown",
      "source": [
        "# Relational Operators"
      ],
      "metadata": {
        "id": "L6Fs0j7e-B8T"
      }
    },
    {
      "cell_type": "code",
      "metadata": {
        "id": "dUAj9eRChd45"
      },
      "source": [
        "# single = is assignment\n",
        "a = 10"
      ],
      "execution_count": null,
      "outputs": []
    },
    {
      "cell_type": "code",
      "metadata": {
        "id": "i29sk4r4hlCw",
        "outputId": "6506bcd6-3618-47f6-9978-71563cc75146",
        "colab": {
          "base_uri": "https://localhost:8080/",
          "height": 35
        }
      },
      "source": [
        "# == checking equality relationship\n",
        "10 == 10"
      ],
      "execution_count": null,
      "outputs": [
        {
          "output_type": "execute_result",
          "data": {
            "text/plain": [
              "True"
            ]
          },
          "metadata": {
            "tags": []
          },
          "execution_count": 8
        }
      ]
    },
    {
      "cell_type": "code",
      "metadata": {
        "id": "4GzoUH5Alh1K",
        "colab": {
          "base_uri": "https://localhost:8080/",
          "height": 35
        },
        "outputId": "0aa40f28-9071-4197-ef7b-ea5229028127"
      },
      "source": [
        "# greater than\n",
        "10 > 9"
      ],
      "execution_count": null,
      "outputs": [
        {
          "output_type": "execute_result",
          "data": {
            "text/plain": [
              "True"
            ]
          },
          "metadata": {
            "tags": []
          },
          "execution_count": 15
        }
      ]
    },
    {
      "cell_type": "code",
      "metadata": {
        "id": "4UJSWqH2lraB",
        "colab": {
          "base_uri": "https://localhost:8080/",
          "height": 35
        },
        "outputId": "4a520535-6169-48df-9bb1-7b7e0f324ad4"
      },
      "source": [
        "# less than\n",
        "7 < 9"
      ],
      "execution_count": null,
      "outputs": [
        {
          "output_type": "execute_result",
          "data": {
            "text/plain": [
              "True"
            ]
          },
          "metadata": {
            "tags": []
          },
          "execution_count": 16
        }
      ]
    },
    {
      "cell_type": "code",
      "metadata": {
        "id": "3CvaRTrblwNp",
        "colab": {
          "base_uri": "https://localhost:8080/",
          "height": 35
        },
        "outputId": "6606dd39-75eb-47e2-dfa3-466884bad902"
      },
      "source": [
        "# greater than or equal (GTE)\n",
        "10 >= 10"
      ],
      "execution_count": null,
      "outputs": [
        {
          "output_type": "execute_result",
          "data": {
            "text/plain": [
              "True"
            ]
          },
          "metadata": {
            "tags": []
          },
          "execution_count": 17
        }
      ]
    },
    {
      "cell_type": "code",
      "metadata": {
        "id": "mxVtZOxTl2g_",
        "colab": {
          "base_uri": "https://localhost:8080/",
          "height": 35
        },
        "outputId": "40c4ba3e-7525-4c61-88fa-2d3fb0185160"
      },
      "source": [
        "# less than or equal (LTE)\n",
        "10 <= 9"
      ],
      "execution_count": null,
      "outputs": [
        {
          "output_type": "execute_result",
          "data": {
            "text/plain": [
              "False"
            ]
          },
          "metadata": {
            "tags": []
          },
          "execution_count": 20
        }
      ]
    },
    {
      "cell_type": "code",
      "metadata": {
        "id": "7s-iOb2ejSxh",
        "colab": {
          "base_uri": "https://localhost:8080/",
          "height": 35
        },
        "outputId": "568da875-d489-4d7d-df0c-06601275cffa"
      },
      "source": [
        "# not equal\n",
        "9 != 10"
      ],
      "execution_count": null,
      "outputs": [
        {
          "output_type": "execute_result",
          "data": {
            "text/plain": [
              "True"
            ]
          },
          "metadata": {
            "tags": []
          },
          "execution_count": 19
        }
      ]
    },
    {
      "cell_type": "markdown",
      "source": [
        "# Assignment Operators"
      ],
      "metadata": {
        "id": "gf80cYXh87ar"
      }
    },
    {
      "cell_type": "code",
      "metadata": {
        "id": "XUvA_ZOHh58e"
      },
      "source": [
        "a = 10"
      ],
      "execution_count": null,
      "outputs": []
    },
    {
      "cell_type": "code",
      "metadata": {
        "id": "IpxyNxUOoOBi"
      },
      "source": [
        "score = 0\n",
        "life = 3"
      ],
      "execution_count": null,
      "outputs": []
    },
    {
      "cell_type": "code",
      "metadata": {
        "id": "Lsc1ZYAuoiVQ"
      },
      "source": [
        "score = 0 + 10"
      ],
      "execution_count": null,
      "outputs": []
    },
    {
      "cell_type": "code",
      "metadata": {
        "id": "heEUVFnIolyp",
        "colab": {
          "base_uri": "https://localhost:8080/",
          "height": 34
        },
        "outputId": "f7b3e320-e738-4ac2-837b-b7f023b71650"
      },
      "source": [
        "score"
      ],
      "execution_count": null,
      "outputs": [
        {
          "output_type": "execute_result",
          "data": {
            "text/plain": [
              "40"
            ]
          },
          "metadata": {
            "tags": []
          },
          "execution_count": 33
        }
      ]
    },
    {
      "cell_type": "code",
      "metadata": {
        "id": "QeRjWV4Pong4"
      },
      "source": [
        "score = 10 + 10"
      ],
      "execution_count": null,
      "outputs": []
    },
    {
      "cell_type": "code",
      "metadata": {
        "id": "F-WUrBECotmQ"
      },
      "source": [
        "score = score + 10"
      ],
      "execution_count": null,
      "outputs": []
    },
    {
      "cell_type": "code",
      "metadata": {
        "id": "HX6w6zjroy1I"
      },
      "source": [
        "score += 10"
      ],
      "execution_count": null,
      "outputs": []
    },
    {
      "cell_type": "code",
      "metadata": {
        "id": "hxsQcjoQpOD5",
        "colab": {
          "base_uri": "https://localhost:8080/",
          "height": 34
        },
        "outputId": "6221825e-cd51-4312-cf89-c84bd92db390"
      },
      "source": [
        "life"
      ],
      "execution_count": null,
      "outputs": [
        {
          "output_type": "execute_result",
          "data": {
            "text/plain": [
              "1"
            ]
          },
          "metadata": {
            "tags": []
          },
          "execution_count": 38
        }
      ]
    },
    {
      "cell_type": "code",
      "metadata": {
        "id": "CmIrnR75pQMg"
      },
      "source": [
        "life -= 1"
      ],
      "execution_count": null,
      "outputs": []
    },
    {
      "cell_type": "markdown",
      "source": [
        "# String Indexing"
      ],
      "metadata": {
        "id": "GFCsOQEL8czD"
      }
    },
    {
      "cell_type": "code",
      "metadata": {
        "id": "NNmh9pe3BP7A",
        "colab": {
          "base_uri": "https://localhost:8080/",
          "height": 35
        },
        "outputId": "5f6aa84f-fe48-4fbc-f8cb-b576fa70a446"
      },
      "source": [
        "'print'"
      ],
      "execution_count": null,
      "outputs": [
        {
          "output_type": "execute_result",
          "data": {
            "text/plain": [
              "'print'"
            ]
          },
          "metadata": {
            "tags": []
          },
          "execution_count": 5
        }
      ]
    },
    {
      "cell_type": "code",
      "metadata": {
        "id": "qEjQERAuBh8v",
        "colab": {
          "base_uri": "https://localhost:8080/",
          "height": 35
        },
        "outputId": "90ee2615-ebaa-4bd2-9272-38b4678279ce"
      },
      "source": [
        "\"hello world\""
      ],
      "execution_count": null,
      "outputs": [
        {
          "output_type": "execute_result",
          "data": {
            "text/plain": [
              "'hello world'"
            ]
          },
          "metadata": {
            "tags": []
          },
          "execution_count": 6
        }
      ]
    },
    {
      "cell_type": "code",
      "metadata": {
        "id": "AXvrmgI1Bld3",
        "colab": {
          "base_uri": "https://localhost:8080/",
          "height": 69
        },
        "outputId": "85eb55d2-3735-4d1c-d24b-a8072643ed8f"
      },
      "source": [
        "print(\"hello world\")\n",
        "print(\"I am john\")\n",
        "print(\"print all the lines\")"
      ],
      "execution_count": null,
      "outputs": [
        {
          "output_type": "stream",
          "text": [
            "hello world\n",
            "I am john\n",
            "print all the lines\n"
          ],
          "name": "stdout"
        }
      ]
    },
    {
      "cell_type": "code",
      "metadata": {
        "id": "LRxIierrCh7f",
        "colab": {
          "base_uri": "https://localhost:8080/",
          "height": 35
        },
        "outputId": "7aacb165-78ff-42a1-8636-2993e85e490e"
      },
      "source": [
        " 1 + 2"
      ],
      "execution_count": null,
      "outputs": [
        {
          "output_type": "execute_result",
          "data": {
            "text/plain": [
              "3"
            ]
          },
          "metadata": {
            "tags": []
          },
          "execution_count": 11
        }
      ]
    },
    {
      "cell_type": "code",
      "metadata": {
        "id": "tbFvc9mbClPH",
        "colab": {
          "base_uri": "https://localhost:8080/",
          "height": 35
        },
        "outputId": "a02ee4a2-99e1-4d3f-9ade-bc3a1afca546"
      },
      "source": [
        "#string concatination\n",
        "\"cat\" + \"dog\" + \"help\""
      ],
      "execution_count": null,
      "outputs": [
        {
          "output_type": "execute_result",
          "data": {
            "text/plain": [
              "'catdoghelp'"
            ]
          },
          "metadata": {
            "tags": []
          },
          "execution_count": 13
        }
      ]
    },
    {
      "cell_type": "code",
      "metadata": {
        "id": "e3KpmLuXCxpt",
        "colab": {
          "base_uri": "https://localhost:8080/",
          "height": 35
        },
        "outputId": "fc64b589-77e6-439b-b540-e0db2c6cdb84"
      },
      "source": [
        "2 * 3"
      ],
      "execution_count": null,
      "outputs": [
        {
          "output_type": "execute_result",
          "data": {
            "text/plain": [
              "6"
            ]
          },
          "metadata": {
            "tags": []
          },
          "execution_count": 14
        }
      ]
    },
    {
      "cell_type": "code",
      "metadata": {
        "id": "wMsrUlrICzev",
        "colab": {
          "base_uri": "https://localhost:8080/",
          "height": 35
        },
        "outputId": "fcac9878-5ea9-483f-93c5-7668e2c32365"
      },
      "source": [
        "\"-\" * 30"
      ],
      "execution_count": null,
      "outputs": [
        {
          "output_type": "execute_result",
          "data": {
            "text/plain": [
              "'------------------------------'"
            ]
          },
          "metadata": {
            "tags": []
          },
          "execution_count": 17
        }
      ]
    },
    {
      "cell_type": "code",
      "metadata": {
        "id": "r6U4jg1vDHFu"
      },
      "source": [
        "s = \"hello\""
      ],
      "execution_count": null,
      "outputs": []
    },
    {
      "cell_type": "code",
      "metadata": {
        "id": "oOaBmE6HDy0R",
        "colab": {
          "base_uri": "https://localhost:8080/",
          "height": 35
        },
        "outputId": "040d7bd0-6550-441a-ff2e-5905d1b4132b"
      },
      "source": [
        "s"
      ],
      "execution_count": null,
      "outputs": [
        {
          "output_type": "execute_result",
          "data": {
            "text/plain": [
              "'hello'"
            ]
          },
          "metadata": {
            "tags": []
          },
          "execution_count": 19
        }
      ]
    },
    {
      "cell_type": "code",
      "metadata": {
        "id": "dSKwWi-8D0BW",
        "colab": {
          "base_uri": "https://localhost:8080/",
          "height": 35
        },
        "outputId": "40d95be2-84f6-4e11-a290-747fd56d669e"
      },
      "source": [
        "#indexing\n",
        "s[0]"
      ],
      "execution_count": null,
      "outputs": [
        {
          "output_type": "execute_result",
          "data": {
            "text/plain": [
              "'h'"
            ]
          },
          "metadata": {
            "tags": []
          },
          "execution_count": 20
        }
      ]
    },
    {
      "cell_type": "code",
      "metadata": {
        "id": "3JF0MyYHD2yN",
        "colab": {
          "base_uri": "https://localhost:8080/",
          "height": 35
        },
        "outputId": "46fc61a6-5b0d-46ee-cd1e-66424295b188"
      },
      "source": [
        "s[4]"
      ],
      "execution_count": null,
      "outputs": [
        {
          "output_type": "execute_result",
          "data": {
            "text/plain": [
              "'o'"
            ]
          },
          "metadata": {
            "tags": []
          },
          "execution_count": 21
        }
      ]
    },
    {
      "cell_type": "code",
      "metadata": {
        "id": "vrR8xQ3aD8GO",
        "colab": {
          "base_uri": "https://localhost:8080/",
          "height": 35
        },
        "outputId": "a7b66a76-f942-4a52-f0a7-e1f1ee2e0e8a"
      },
      "source": [
        "s[-1]"
      ],
      "execution_count": null,
      "outputs": [
        {
          "output_type": "execute_result",
          "data": {
            "text/plain": [
              "'o'"
            ]
          },
          "metadata": {
            "tags": []
          },
          "execution_count": 22
        }
      ]
    },
    {
      "cell_type": "code",
      "metadata": {
        "id": "KLfz3rbeEAkm",
        "colab": {
          "base_uri": "https://localhost:8080/",
          "height": 35
        },
        "outputId": "83b2e822-d45a-4a87-fa46-50b3e7337e17"
      },
      "source": [
        "s[-5]"
      ],
      "execution_count": null,
      "outputs": [
        {
          "output_type": "execute_result",
          "data": {
            "text/plain": [
              "'h'"
            ]
          },
          "metadata": {
            "tags": []
          },
          "execution_count": 23
        }
      ]
    },
    {
      "cell_type": "code",
      "metadata": {
        "id": "agqohzdlSz0h"
      },
      "source": [
        "#multiline strings (triple single or double quotes)\n",
        "name = 'john'\n",
        "address = \"\"\"123, 1st cross,\n",
        "2nd main road,\n",
        "city - 600001\"\"\""
      ],
      "execution_count": null,
      "outputs": []
    },
    {
      "cell_type": "code",
      "metadata": {
        "id": "wMCgSmjYWRen",
        "colab": {
          "base_uri": "https://localhost:8080/",
          "height": 69
        },
        "outputId": "235f8419-3b4c-4d07-fe89-ae8920ad7b18"
      },
      "source": [
        "print(address)"
      ],
      "execution_count": null,
      "outputs": [
        {
          "output_type": "stream",
          "text": [
            "123, 1st cross,\n",
            "2nd main road,\n",
            "city - 600001\n"
          ],
          "name": "stdout"
        }
      ]
    },
    {
      "cell_type": "code",
      "metadata": {
        "id": "vsq90bceS6i_",
        "colab": {
          "base_uri": "https://localhost:8080/",
          "height": 35
        },
        "outputId": "c9c0f2ce-0ed0-4363-a7a7-967efdc5b0b6"
      },
      "source": [
        "#string slicing\n",
        "#[start:stop:step]\n",
        "name = 'hear'\n",
        "name[:2]\n",
        "name[1:]\n",
        "name[1:3]\n",
        "numbers = '12345678'\n",
        "numbers[::3]\n",
        "numbers[1:-2:]\n",
        "numbers[1:-2:2]"
      ],
      "execution_count": null,
      "outputs": [
        {
          "output_type": "execute_result",
          "data": {
            "text/plain": [
              "'246'"
            ]
          },
          "metadata": {
            "tags": []
          },
          "execution_count": 34
        }
      ]
    },
    {
      "cell_type": "code",
      "metadata": {
        "id": "uqmXHrAkTWJz",
        "colab": {
          "base_uri": "https://localhost:8080/",
          "height": 35
        },
        "outputId": "ba93f065-abbb-4d02-bcb1-9b9586b854e1"
      },
      "source": [
        "#string functions or methods\n",
        "#fn_name(arg)\n",
        "#obj_name.method_name(arg)\n",
        "#small letters and capital letters - lower case and upper case\n",
        "name = 'JOHN'\n",
        "quote = 'stay hUNgry. stAy foolish.'\n",
        "lengthy = 'our mission is to collect the world data and to organize it to make it accessible and useful'\n",
        "alpa = 'iamaboy'\n",
        "digit = '---2134---'\n",
        "alpnum = 'iam24yearsold'\n",
        "#methods used for switching cases\n",
        "name.upper()\n",
        "name.lower()\n",
        "quote.title()\n",
        "lengthy.capitalize()\n",
        "quote.swapcase()\n",
        "\n",
        "#methods to check the value within string\n",
        "alpa.isalnum()\n",
        "alpa.isalpha()\n",
        "alpnum.isalpha()\n",
        "alpnum.isalnum()\n",
        "digit.isdigit()\n",
        "\n",
        "#string formatting methods\n",
        "digit.rstrip('-')\n",
        "digit.lstrip('-')\n",
        "digit.strip('-')\n",
        "\n",
        "quote.split('.')"
      ],
      "execution_count": null,
      "outputs": [
        {
          "output_type": "execute_result",
          "data": {
            "text/plain": [
              "['stay hUNgry', ' stAy foolish', '']"
            ]
          },
          "metadata": {
            "tags": []
          },
          "execution_count": 54
        }
      ]
    },
    {
      "cell_type": "code",
      "metadata": {
        "id": "461V7l06Z0Of"
      },
      "source": [
        "while True:\n",
        "  print('hello world')"
      ],
      "execution_count": null,
      "outputs": []
    },
    {
      "cell_type": "code",
      "metadata": {
        "id": "RzA-nTzAbNsW",
        "colab": {
          "base_uri": "https://localhost:8080/",
          "height": 35
        },
        "outputId": "f5b11dd1-744a-4546-cad9-bb5e8bfd3361"
      },
      "source": [
        "if 1 < 2:\n",
        "  if 2 < 3:\n",
        "    if 3 > 4:\n",
        "      print 3\n",
        "    else:\n",
        "      print 4\n",
        "  else:\n",
        "    print 5\n",
        "else:\n",
        "  print 6"
      ],
      "execution_count": null,
      "outputs": [
        {
          "output_type": "stream",
          "text": [
            "hi\n"
          ],
          "name": "stdout"
        }
      ]
    },
    {
      "cell_type": "markdown",
      "source": [
        "# List []"
      ],
      "metadata": {
        "id": "u4-Q6ZvE79e8"
      }
    },
    {
      "cell_type": "markdown",
      "metadata": {
        "id": "QplfloDYT-3a"
      },
      "source": [
        "Sequence of elements, order preserved, mutuable (changable)"
      ]
    },
    {
      "cell_type": "code",
      "metadata": {
        "id": "752g6GMBHM96"
      },
      "source": [
        "vadivelu = [1,2,3]"
      ],
      "execution_count": null,
      "outputs": []
    },
    {
      "cell_type": "code",
      "metadata": {
        "id": "uNtcisY-UUsh",
        "colab": {
          "base_uri": "https://localhost:8080/",
          "height": 34
        },
        "outputId": "d226e873-b0e7-4ed8-890f-8797edadca54"
      },
      "source": [
        "vadivelu"
      ],
      "execution_count": null,
      "outputs": [
        {
          "output_type": "execute_result",
          "data": {
            "text/plain": [
              "[1, 2, 3]"
            ]
          },
          "metadata": {
            "tags": []
          },
          "execution_count": 2
        }
      ]
    },
    {
      "cell_type": "code",
      "metadata": {
        "id": "XWOsa8TBUa6w",
        "colab": {
          "base_uri": "https://localhost:8080/",
          "height": 34
        },
        "outputId": "d6ce821d-21cd-4ef1-e2a9-0efd7833ca37"
      },
      "source": [
        "vadivelu = ['a',1,2.0,[1,2,3]]\n",
        "vadivelu"
      ],
      "execution_count": null,
      "outputs": [
        {
          "output_type": "execute_result",
          "data": {
            "text/plain": [
              "['a', 1, 2.0, [1, 2, 3]]"
            ]
          },
          "metadata": {
            "tags": []
          },
          "execution_count": 3
        }
      ]
    },
    {
      "cell_type": "code",
      "metadata": {
        "id": "nDiiE1v_Ugoo"
      },
      "source": [
        "vadivelu = ['Asingam', 'avamanam', 'vekkam', 'vedhanai', 'dhukam', 'thuyaram', 'kastam', 'kavalai']"
      ],
      "execution_count": null,
      "outputs": []
    },
    {
      "cell_type": "code",
      "metadata": {
        "id": "isSaTjYSUsE9",
        "colab": {
          "base_uri": "https://localhost:8080/",
          "height": 35
        },
        "outputId": "764502db-ae21-40d6-f7c3-b32da05b7b04"
      },
      "source": [
        "vadivelu[0]"
      ],
      "execution_count": null,
      "outputs": [
        {
          "output_type": "execute_result",
          "data": {
            "application/vnd.google.colaboratory.intrinsic+json": {
              "type": "string"
            },
            "text/plain": [
              "'Asingam'"
            ]
          },
          "metadata": {
            "tags": []
          },
          "execution_count": 5
        }
      ]
    },
    {
      "cell_type": "code",
      "metadata": {
        "id": "RgqPBLiyU47m",
        "colab": {
          "base_uri": "https://localhost:8080/",
          "height": 35
        },
        "outputId": "2400e0fb-1fc2-4ca1-c978-957e5bae8bed"
      },
      "source": [
        "vadivelu[-1]"
      ],
      "execution_count": null,
      "outputs": [
        {
          "output_type": "execute_result",
          "data": {
            "application/vnd.google.colaboratory.intrinsic+json": {
              "type": "string"
            },
            "text/plain": [
              "'kavalai'"
            ]
          },
          "metadata": {
            "tags": []
          },
          "execution_count": 6
        }
      ]
    },
    {
      "cell_type": "code",
      "metadata": {
        "id": "VhReGUl5U72_",
        "colab": {
          "base_uri": "https://localhost:8080/",
          "height": 34
        },
        "outputId": "4a0de9ec-7dc3-4c4f-d803-7249dc08e5f0"
      },
      "source": [
        "vadivelu[:4]"
      ],
      "execution_count": null,
      "outputs": [
        {
          "output_type": "execute_result",
          "data": {
            "text/plain": [
              "['Asingam', 'avamanam', 'vekkam', 'vedhanai']"
            ]
          },
          "metadata": {
            "tags": []
          },
          "execution_count": 7
        }
      ]
    },
    {
      "cell_type": "code",
      "metadata": {
        "id": "evHVXcHFU_t3",
        "colab": {
          "base_uri": "https://localhost:8080/",
          "height": 34
        },
        "outputId": "2c167a2f-b906-4a91-f184-772d59734ee7"
      },
      "source": [
        "vadivelu[4:]"
      ],
      "execution_count": null,
      "outputs": [
        {
          "output_type": "execute_result",
          "data": {
            "text/plain": [
              "['dhukam', 'thuyaram', 'kastam', 'kavalai']"
            ]
          },
          "metadata": {
            "tags": []
          },
          "execution_count": 8
        }
      ]
    },
    {
      "cell_type": "code",
      "metadata": {
        "id": "ha0PxFBOVD79"
      },
      "source": [
        "vadi = [1,2]\n",
        "velu = [3,4]"
      ],
      "execution_count": null,
      "outputs": []
    },
    {
      "cell_type": "code",
      "metadata": {
        "id": "9k2HJtL-VJeN",
        "colab": {
          "base_uri": "https://localhost:8080/",
          "height": 34
        },
        "outputId": "2d2ee596-8299-44af-f3d7-45713994ebec"
      },
      "source": [
        "vadi + velu "
      ],
      "execution_count": null,
      "outputs": [
        {
          "output_type": "execute_result",
          "data": {
            "text/plain": [
              "[1, 2, 3, 4]"
            ]
          },
          "metadata": {
            "tags": []
          },
          "execution_count": 10
        }
      ]
    },
    {
      "cell_type": "code",
      "metadata": {
        "id": "jpzZUQ80VSN_"
      },
      "source": [
        "string1 = 'kannan'"
      ],
      "execution_count": null,
      "outputs": []
    },
    {
      "cell_type": "code",
      "metadata": {
        "id": "l7J_iaR-VWbe",
        "colab": {
          "base_uri": "https://localhost:8080/",
          "height": 35
        },
        "outputId": "ead1ee2c-0760-47c7-9496-c179a0c1fddd"
      },
      "source": [
        "string1[-2]"
      ],
      "execution_count": null,
      "outputs": [
        {
          "output_type": "execute_result",
          "data": {
            "application/vnd.google.colaboratory.intrinsic+json": {
              "type": "string"
            },
            "text/plain": [
              "'o'"
            ]
          },
          "metadata": {
            "tags": []
          },
          "execution_count": 12
        }
      ]
    },
    {
      "cell_type": "code",
      "metadata": {
        "id": "3XZEFYRwVZII",
        "colab": {
          "base_uri": "https://localhost:8080/",
          "height": 166
        },
        "outputId": "df4a5c07-bfa0-406b-a5d3-af79c9b02763"
      },
      "source": [
        "string1[-2] = 'a'"
      ],
      "execution_count": null,
      "outputs": [
        {
          "output_type": "error",
          "ename": "TypeError",
          "evalue": "ignored",
          "traceback": [
            "\u001b[0;31m---------------------------------------------------------------------------\u001b[0m",
            "\u001b[0;31mTypeError\u001b[0m                                 Traceback (most recent call last)",
            "\u001b[0;32m<ipython-input-13-bd1292795fb8>\u001b[0m in \u001b[0;36m<module>\u001b[0;34m()\u001b[0m\n\u001b[0;32m----> 1\u001b[0;31m \u001b[0mstring1\u001b[0m\u001b[0;34m[\u001b[0m\u001b[0;34m-\u001b[0m\u001b[0;36m2\u001b[0m\u001b[0;34m]\u001b[0m \u001b[0;34m=\u001b[0m \u001b[0;34m'a'\u001b[0m\u001b[0;34m\u001b[0m\u001b[0;34m\u001b[0m\u001b[0m\n\u001b[0m",
            "\u001b[0;31mTypeError\u001b[0m: 'str' object does not support item assignment"
          ]
        }
      ]
    },
    {
      "cell_type": "code",
      "metadata": {
        "id": "RvUTCI5gVipe",
        "colab": {
          "base_uri": "https://localhost:8080/",
          "height": 35
        },
        "outputId": "06bed4b0-8eb9-4487-9b34-3875bc13734d"
      },
      "source": [
        "vadi"
      ],
      "execution_count": null,
      "outputs": [
        {
          "output_type": "execute_result",
          "data": {
            "text/plain": [
              "[]"
            ]
          },
          "metadata": {
            "tags": []
          },
          "execution_count": 33
        }
      ]
    },
    {
      "cell_type": "code",
      "metadata": {
        "id": "UtkZWUBsVke9",
        "colab": {
          "base_uri": "https://localhost:8080/",
          "height": 35
        },
        "outputId": "6138c90a-67e0-4487-aa1e-43367f613055"
      },
      "source": [
        "vadi[1]"
      ],
      "execution_count": null,
      "outputs": [
        {
          "output_type": "execute_result",
          "data": {
            "text/plain": [
              "2"
            ]
          },
          "metadata": {
            "tags": []
          },
          "execution_count": 16
        }
      ]
    },
    {
      "cell_type": "code",
      "metadata": {
        "id": "mRp4NRAvVnDU"
      },
      "source": [
        "vadi[1] = 20"
      ],
      "execution_count": null,
      "outputs": []
    },
    {
      "cell_type": "code",
      "metadata": {
        "id": "0zJCv4blVx4P"
      },
      "source": [
        "vadi.append(5)"
      ],
      "execution_count": null,
      "outputs": []
    },
    {
      "cell_type": "code",
      "metadata": {
        "id": "stduQ5PgV9K2",
        "colab": {
          "base_uri": "https://localhost:8080/",
          "height": 35
        },
        "outputId": "5659df46-dbce-49d9-91c1-e5725e1f185f"
      },
      "source": [
        "vadi.pop(-2)"
      ],
      "execution_count": null,
      "outputs": [
        {
          "output_type": "execute_result",
          "data": {
            "text/plain": [
              "3"
            ]
          },
          "metadata": {
            "tags": []
          },
          "execution_count": 26
        }
      ]
    },
    {
      "cell_type": "code",
      "metadata": {
        "id": "5EZZEDjSZtip"
      },
      "source": [
        "vadi.sort()"
      ],
      "execution_count": null,
      "outputs": []
    },
    {
      "cell_type": "code",
      "metadata": {
        "id": "bTN_O7-mZ5Bl"
      },
      "source": [
        "vadi.reverse()"
      ],
      "execution_count": null,
      "outputs": []
    },
    {
      "cell_type": "code",
      "metadata": {
        "id": "Dp43bBrUZ--8"
      },
      "source": [
        "vadi.clear()"
      ],
      "execution_count": null,
      "outputs": []
    },
    {
      "cell_type": "markdown",
      "source": [
        "# Tuple ()"
      ],
      "metadata": {
        "id": "sQndbpv47pNV"
      }
    },
    {
      "cell_type": "code",
      "metadata": {
        "id": "ahqDOos3cP9T"
      },
      "source": [
        "a = (1,2,3) #tuple"
      ],
      "execution_count": null,
      "outputs": []
    },
    {
      "cell_type": "code",
      "metadata": {
        "id": "Rtk4PRVOcf_2"
      },
      "source": [
        "b = [1,2,3] #list"
      ],
      "execution_count": null,
      "outputs": []
    },
    {
      "cell_type": "code",
      "metadata": {
        "id": "khNw6LXpcklw",
        "colab": {
          "base_uri": "https://localhost:8080/",
          "height": 35
        },
        "outputId": "8f7e31ec-6e5a-42fa-bc9e-10cd3748dccd"
      },
      "source": [
        "type(a)"
      ],
      "execution_count": null,
      "outputs": [
        {
          "output_type": "execute_result",
          "data": {
            "text/plain": [
              "list"
            ]
          },
          "metadata": {
            "tags": []
          },
          "execution_count": 8
        }
      ]
    },
    {
      "cell_type": "code",
      "metadata": {
        "id": "QBDhImK5cx-N",
        "colab": {
          "base_uri": "https://localhost:8080/",
          "height": 35
        },
        "outputId": "7e816bf6-d9c9-4541-d4fa-25ac845fa403"
      },
      "source": [
        "b"
      ],
      "execution_count": null,
      "outputs": [
        {
          "output_type": "execute_result",
          "data": {
            "text/plain": [
              "['one', 2, 3]"
            ]
          },
          "metadata": {
            "tags": []
          },
          "execution_count": 12
        }
      ]
    },
    {
      "cell_type": "code",
      "metadata": {
        "id": "HqA64OjUc91H",
        "colab": {
          "base_uri": "https://localhost:8080/",
          "height": 166
        },
        "outputId": "3f46d608-05d7-4717-9587-d1047f54e3bc"
      },
      "source": [
        "a[0] = 10"
      ],
      "execution_count": null,
      "outputs": [
        {
          "output_type": "error",
          "ename": "TypeError",
          "evalue": "ignored",
          "traceback": [
            "\u001b[0;31m---------------------------------------------------------------------------\u001b[0m",
            "\u001b[0;31mTypeError\u001b[0m                                 Traceback (most recent call last)",
            "\u001b[0;32m<ipython-input-13-f1ed05beefd5>\u001b[0m in \u001b[0;36m<module>\u001b[0;34m()\u001b[0m\n\u001b[0;32m----> 1\u001b[0;31m \u001b[0mvadi\u001b[0m\u001b[0;34m[\u001b[0m\u001b[0;36m0\u001b[0m\u001b[0;34m]\u001b[0m \u001b[0;34m=\u001b[0m \u001b[0;36m10\u001b[0m\u001b[0;34m\u001b[0m\u001b[0;34m\u001b[0m\u001b[0m\n\u001b[0m",
            "\u001b[0;31mTypeError\u001b[0m: 'tuple' object does not support item assignment"
          ]
        }
      ]
    },
    {
      "cell_type": "code",
      "metadata": {
        "id": "Te5Y71tNdCR4"
      },
      "source": [
        "a = (1,1,1,3,2,3)"
      ],
      "execution_count": null,
      "outputs": []
    },
    {
      "cell_type": "code",
      "metadata": {
        "id": "cYE0sioDdQvJ",
        "colab": {
          "base_uri": "https://localhost:8080/",
          "height": 35
        },
        "outputId": "3e32aa99-a511-44b5-90b9-c0ba69f189ff"
      },
      "source": [
        "a.count(1)"
      ],
      "execution_count": null,
      "outputs": [
        {
          "output_type": "execute_result",
          "data": {
            "text/plain": [
              "3"
            ]
          },
          "metadata": {
            "tags": []
          },
          "execution_count": 18
        }
      ]
    },
    {
      "cell_type": "code",
      "metadata": {
        "id": "o99zIyqVdSnw",
        "colab": {
          "base_uri": "https://localhost:8080/",
          "height": 35
        },
        "outputId": "7bbb5617-6e76-4ab2-d3b2-444fe4588853"
      },
      "source": [
        "a.index(1,2)"
      ],
      "execution_count": null,
      "outputs": [
        {
          "output_type": "execute_result",
          "data": {
            "text/plain": [
              "2"
            ]
          },
          "metadata": {
            "tags": []
          },
          "execution_count": 22
        }
      ]
    },
    {
      "cell_type": "markdown",
      "source": [
        "# Set {}"
      ],
      "metadata": {
        "id": "E0WiklMp7UPm"
      }
    },
    {
      "cell_type": "code",
      "metadata": {
        "id": "hMhxYwycn1XJ"
      },
      "source": [
        "numbers = {1,2,3} #list [] tuple () sets {}"
      ],
      "execution_count": null,
      "outputs": []
    },
    {
      "cell_type": "code",
      "source": [
        ""
      ],
      "metadata": {
        "id": "ovQk5MmG7jA6"
      },
      "execution_count": null,
      "outputs": []
    },
    {
      "cell_type": "code",
      "metadata": {
        "id": "GWBo0tjIywk6",
        "colab": {
          "base_uri": "https://localhost:8080/",
          "height": 35
        },
        "outputId": "fa7c7c2f-e162-4656-bc45-248a387f08c9"
      },
      "source": [
        "type(numbers)"
      ],
      "execution_count": null,
      "outputs": [
        {
          "output_type": "execute_result",
          "data": {
            "text/plain": [
              "set"
            ]
          },
          "metadata": {
            "tags": []
          },
          "execution_count": 4
        }
      ]
    },
    {
      "cell_type": "markdown",
      "metadata": {
        "id": "JwmDnUasy8ho"
      },
      "source": [
        "unordered \n",
        "unique elements"
      ]
    },
    {
      "cell_type": "code",
      "metadata": {
        "id": "Jvbj32P3zAnq"
      },
      "source": [
        "numbers = [1,1,1,3,2]"
      ],
      "execution_count": null,
      "outputs": []
    },
    {
      "cell_type": "code",
      "metadata": {
        "id": "yupSKiRWzENC",
        "colab": {
          "base_uri": "https://localhost:8080/",
          "height": 35
        },
        "outputId": "687246ca-73f3-406d-cba0-ec0d1bedd76a"
      },
      "source": [
        "len(numbers)"
      ],
      "execution_count": null,
      "outputs": [
        {
          "output_type": "execute_result",
          "data": {
            "text/plain": [
              "5"
            ]
          },
          "metadata": {
            "tags": []
          },
          "execution_count": 7
        }
      ]
    },
    {
      "cell_type": "code",
      "metadata": {
        "id": "6vrYdrgQzIEB"
      },
      "source": [
        "numbers = {1,1,1,3,2}"
      ],
      "execution_count": null,
      "outputs": []
    },
    {
      "cell_type": "code",
      "metadata": {
        "id": "9zP-arvrzLJJ",
        "colab": {
          "base_uri": "https://localhost:8080/",
          "height": 35
        },
        "outputId": "baa25e85-372a-4f1c-c6f3-3cee21bfd3c5"
      },
      "source": [
        "len(numbers)"
      ],
      "execution_count": null,
      "outputs": [
        {
          "output_type": "execute_result",
          "data": {
            "text/plain": [
              "3"
            ]
          },
          "metadata": {
            "tags": []
          },
          "execution_count": 9
        }
      ]
    },
    {
      "cell_type": "code",
      "metadata": {
        "id": "kXjWWqwDzNEK",
        "colab": {
          "base_uri": "https://localhost:8080/",
          "height": 35
        },
        "outputId": "12491f4d-f239-4110-e0ac-805aec48a833"
      },
      "source": [
        "numbers"
      ],
      "execution_count": null,
      "outputs": [
        {
          "output_type": "execute_result",
          "data": {
            "text/plain": [
              "{1, 2, 3}"
            ]
          },
          "metadata": {
            "tags": []
          },
          "execution_count": 10
        }
      ]
    },
    {
      "cell_type": "code",
      "metadata": {
        "id": "9FUsvwrPzTCJ"
      },
      "source": [
        "numbers = [11,12,12,12,13]"
      ],
      "execution_count": null,
      "outputs": []
    },
    {
      "cell_type": "code",
      "metadata": {
        "id": "WOE3Fhw-zWy1"
      },
      "source": [
        "num = set(numbers)"
      ],
      "execution_count": null,
      "outputs": []
    },
    {
      "cell_type": "code",
      "metadata": {
        "id": "2whc_vD8zbNY"
      },
      "source": [
        "num.add(10)"
      ],
      "execution_count": null,
      "outputs": []
    },
    {
      "cell_type": "code",
      "metadata": {
        "id": "kPvMQ4XuzzHx",
        "colab": {
          "base_uri": "https://localhost:8080/",
          "height": 35
        },
        "outputId": "e48d34da-48a1-4b07-8f92-f7d8be45dac5"
      },
      "source": [
        "num"
      ],
      "execution_count": null,
      "outputs": [
        {
          "output_type": "execute_result",
          "data": {
            "text/plain": [
              "{10, 11, 12, 13}"
            ]
          },
          "metadata": {
            "tags": []
          },
          "execution_count": 17
        }
      ]
    },
    {
      "cell_type": "code",
      "metadata": {
        "id": "_RCBvV1Qz5WF",
        "colab": {
          "base_uri": "https://localhost:8080/",
          "height": 166
        },
        "outputId": "1dbe8647-8afc-416c-fa4c-863747d5380f"
      },
      "source": [
        "num.remove(10)"
      ],
      "execution_count": null,
      "outputs": [
        {
          "output_type": "error",
          "ename": "KeyError",
          "evalue": "ignored",
          "traceback": [
            "\u001b[0;31m---------------------------------------------------------------------------\u001b[0m",
            "\u001b[0;31mKeyError\u001b[0m                                  Traceback (most recent call last)",
            "\u001b[0;32m<ipython-input-20-d155e265bbe4>\u001b[0m in \u001b[0;36m<module>\u001b[0;34m()\u001b[0m\n\u001b[0;32m----> 1\u001b[0;31m \u001b[0mnum\u001b[0m\u001b[0;34m.\u001b[0m\u001b[0mremove\u001b[0m\u001b[0;34m(\u001b[0m\u001b[0;36m10\u001b[0m\u001b[0;34m)\u001b[0m\u001b[0;34m\u001b[0m\u001b[0;34m\u001b[0m\u001b[0m\n\u001b[0m",
            "\u001b[0;31mKeyError\u001b[0m: 10"
          ]
        }
      ]
    },
    {
      "cell_type": "markdown",
      "metadata": {
        "id": "p9-LYJXu3d0j"
      },
      "source": [
        "#Dictionaries in python"
      ]
    },
    {
      "cell_type": "code",
      "metadata": {
        "id": "kuDUnwha0WSE",
        "colab": {
          "base_uri": "https://localhost:8080/"
        },
        "outputId": "5f1cb943-1004-49c2-cddf-665fcb331bb1"
      },
      "source": [
        "# dictionary\n",
        "names = {\n",
        "    1:'Kannan',\n",
        "    2:'Ram',\n",
        "    3:'sita'\n",
        "}\n",
        "\n",
        "items = {\n",
        "    'apple':100,\n",
        "    'banana':50\n",
        "}\n",
        "\n",
        "items['banana']\n",
        "\n"
      ],
      "execution_count": 1,
      "outputs": [
        {
          "output_type": "execute_result",
          "data": {
            "text/plain": [
              "50"
            ]
          },
          "metadata": {},
          "execution_count": 1
        }
      ]
    },
    {
      "cell_type": "code",
      "metadata": {
        "id": "XNSINzd53jya",
        "colab": {
          "base_uri": "https://localhost:8080/"
        },
        "outputId": "9e2b8459-ff66-43a7-a260-25a85bcc0c78"
      },
      "source": [
        "# dictionary nested\n",
        "nest = {\n",
        "    1:['Kannan',100,20],\n",
        "    2:['Ram',40,60]\n",
        "}\n",
        "\n",
        "a = nest[1]\n",
        "a[1]\n",
        "\n",
        "nest[1][2]"
      ],
      "execution_count": 2,
      "outputs": [
        {
          "output_type": "execute_result",
          "data": {
            "text/plain": [
              "20"
            ]
          },
          "metadata": {},
          "execution_count": 2
        }
      ]
    },
    {
      "cell_type": "code",
      "metadata": {
        "id": "lKsy3Vsa3qlF",
        "colab": {
          "base_uri": "https://localhost:8080/"
        },
        "outputId": "fd564ea2-d35f-4f5e-9ef2-ed802c11e25a"
      },
      "source": [
        "# reassignment\n",
        "nest[2] = ['Ramcharan',40,60]\n",
        "nest"
      ],
      "execution_count": 3,
      "outputs": [
        {
          "output_type": "execute_result",
          "data": {
            "text/plain": [
              "{1: ['Kannan', 100, 20], 2: ['Ramcharan', 40, 60]}"
            ]
          },
          "metadata": {},
          "execution_count": 3
        }
      ]
    },
    {
      "cell_type": "code",
      "metadata": {
        "id": "z95Z6cCX3_Hr",
        "colab": {
          "base_uri": "https://localhost:8080/"
        },
        "outputId": "9684cf8a-f520-439e-fb71-ccf0c0c797f8"
      },
      "source": [
        "# functions\n",
        "nest.items()\n",
        "nest.keys()\n",
        "nest.values()"
      ],
      "execution_count": 4,
      "outputs": [
        {
          "output_type": "execute_result",
          "data": {
            "text/plain": [
              "dict_values([['Kannan', 100, 20], ['Ramcharan', 40, 60]])"
            ]
          },
          "metadata": {},
          "execution_count": 4
        }
      ]
    },
    {
      "cell_type": "markdown",
      "metadata": {
        "id": "-762zaE_4ECR"
      },
      "source": [
        "#If..Elif..Else"
      ]
    },
    {
      "cell_type": "code",
      "metadata": {
        "id": "tKr-70sg6Mzw",
        "colab": {
          "base_uri": "https://localhost:8080/",
          "height": 35
        },
        "outputId": "6cec61e5-85e9-458e-8b49-e96e475dec4b"
      },
      "source": [
        "# IF\n",
        "if False:\n",
        "  print('hello')\n",
        "print('hi')\n"
      ],
      "execution_count": null,
      "outputs": [
        {
          "output_type": "stream",
          "text": [
            "hi\n"
          ],
          "name": "stdout"
        }
      ]
    },
    {
      "cell_type": "code",
      "metadata": {
        "id": "mNRCde9N6SRg",
        "colab": {
          "base_uri": "https://localhost:8080/",
          "height": 35
        },
        "outputId": "957480db-9bc3-44c4-eb31-11e3457ed484"
      },
      "source": [
        "#IF.. ELSE\n",
        "num = 4\n",
        "\n",
        "if num % 2 == 0:\n",
        "  print('Even')\n",
        "else:\n",
        "  print('Odd')"
      ],
      "execution_count": null,
      "outputs": [
        {
          "output_type": "stream",
          "text": [
            "Even\n"
          ],
          "name": "stdout"
        }
      ]
    },
    {
      "cell_type": "code",
      "metadata": {
        "id": "Jn3yj87a6T_1",
        "colab": {
          "base_uri": "https://localhost:8080/",
          "height": 35
        },
        "outputId": "f8fe3502-8677-4fd6-af4a-f8919bf56d18"
      },
      "source": [
        "#IF.. ELIF.. ELSE\n",
        "name = 'Rust'\n",
        "\n",
        "if name == 'C':\n",
        "  print ('Hi old programmer')\n",
        "elif name == 'Python':\n",
        "  print ('Hi Fellow programmer')\n",
        "elif name == 'Java':\n",
        "  print ('Hi Object Oriented Programmer')\n",
        "else:\n",
        "  print ('You are not a progammer')"
      ],
      "execution_count": null,
      "outputs": [
        {
          "output_type": "stream",
          "text": [
            "You are not a progammer\n"
          ],
          "name": "stdout"
        }
      ]
    },
    {
      "cell_type": "code",
      "metadata": {
        "id": "pvoQfzBU6XFV",
        "colab": {
          "base_uri": "https://localhost:8080/",
          "height": 35
        },
        "outputId": "c181165e-dd79-42b3-fa77-373acb0660af"
      },
      "source": [
        "#Ternary Operator \n",
        "#[on_true] if [expression] else [on_false] \n",
        "num = 2\n",
        "'Even' if num % 2 == 0 else 'ODD'"
      ],
      "execution_count": null,
      "outputs": [
        {
          "output_type": "execute_result",
          "data": {
            "application/vnd.google.colaboratory.intrinsic+json": {
              "type": "string"
            },
            "text/plain": [
              "'Even'"
            ]
          },
          "metadata": {
            "tags": []
          },
          "execution_count": 51
        }
      ]
    },
    {
      "cell_type": "code",
      "metadata": {
        "id": "vOFeuffT6qLc",
        "colab": {
          "base_uri": "https://localhost:8080/",
          "height": 35
        },
        "outputId": "fd4f51c5-749f-41f2-e067-a9241b436934"
      },
      "source": [
        "#Nested IF\n",
        "gender = 'M'\n",
        "age = 8\n",
        "\n",
        "if age >= 18:\n",
        "  if gender == 'M':\n",
        "    print('You can vote and you can get married')\n",
        "  else:\n",
        "    print('You can vote but can not marry[penin thirumana vayathu 21]')\n",
        "else:\n",
        "  print('GO and watch Chuti TV')"
      ],
      "execution_count": null,
      "outputs": [
        {
          "output_type": "stream",
          "text": [
            "GO and watch Chuti TV\n"
          ],
          "name": "stdout"
        }
      ]
    },
    {
      "cell_type": "markdown",
      "metadata": {
        "id": "SsvN4sDv7ORE"
      },
      "source": [
        "#For...ever and ever"
      ]
    },
    {
      "cell_type": "code",
      "metadata": {
        "id": "g2j_eqnI7fjQ"
      },
      "source": [
        "#Iterable\n",
        "[1,2,3]\n",
        "'HELLO'"
      ],
      "execution_count": null,
      "outputs": []
    },
    {
      "cell_type": "code",
      "metadata": {
        "id": "Cv3UXV6A7sNj",
        "colab": {
          "base_uri": "https://localhost:8080/",
          "height": 121
        },
        "outputId": "6aaa9ec7-8025-42f4-f461-dbc3e2eb6d24"
      },
      "source": [
        "#For\n",
        "for item in 'kannan':\n",
        "  print (item)"
      ],
      "execution_count": null,
      "outputs": [
        {
          "output_type": "stream",
          "text": [
            "k\n",
            "a\n",
            "n\n",
            "n\n",
            "a\n",
            "n\n"
          ],
          "name": "stdout"
        }
      ]
    },
    {
      "cell_type": "code",
      "metadata": {
        "id": "sQ7ToCkp8Dkd",
        "colab": {
          "base_uri": "https://localhost:8080/",
          "height": 173
        },
        "outputId": "3c981d43-2ed6-430e-ca7e-80b0545510cc"
      },
      "source": [
        "#Never used iter _\n",
        "for _ in 'something':\n",
        "  print ('cool')"
      ],
      "execution_count": null,
      "outputs": [
        {
          "output_type": "stream",
          "text": [
            "cool\n",
            "cool\n",
            "cool\n",
            "cool\n",
            "cool\n",
            "cool\n",
            "cool\n",
            "cool\n",
            "cool\n"
          ],
          "name": "stdout"
        }
      ]
    },
    {
      "cell_type": "code",
      "metadata": {
        "id": "KcuKPRz_8M9V",
        "colab": {
          "base_uri": "https://localhost:8080/",
          "height": 121
        },
        "outputId": "0cf2c99f-1267-4efb-e676-2f3f3dd8ec1c"
      },
      "source": [
        "#Multidimenionsal iterables\n",
        "for item in [[1,2],[3,4],[5,6]]:\n",
        "  for num in item:\n",
        "    print (num)"
      ],
      "execution_count": null,
      "outputs": [
        {
          "output_type": "stream",
          "text": [
            "1\n",
            "2\n",
            "3\n",
            "4\n",
            "5\n",
            "6\n"
          ],
          "name": "stdout"
        }
      ]
    },
    {
      "cell_type": "markdown",
      "metadata": {
        "id": "WeCqwT8n913i"
      },
      "source": [
        "#While...ago"
      ]
    },
    {
      "cell_type": "code",
      "metadata": {
        "id": "W-WWY61798VX"
      },
      "source": [
        "#while\n",
        "num = 10\n",
        "while num < 5:\n",
        "  print (num)\n",
        "  num = num + 1"
      ],
      "execution_count": null,
      "outputs": []
    },
    {
      "cell_type": "code",
      "metadata": {
        "id": "R1q9zD2I-B9V",
        "colab": {
          "base_uri": "https://localhost:8080/",
          "height": 69
        },
        "outputId": "f4c2c448-1af6-42de-9f17-19224c14598c"
      },
      "source": [
        "#While...else\n",
        "num = 3\n",
        "while num < 5:\n",
        "  print (num)\n",
        "  num = num + 1\n",
        "else:\n",
        "  print('Number not in range')"
      ],
      "execution_count": null,
      "outputs": [
        {
          "output_type": "stream",
          "text": [
            "3\n",
            "4\n",
            "Number not in range\n"
          ],
          "name": "stdout"
        }
      ]
    },
    {
      "cell_type": "code",
      "metadata": {
        "id": "HbW6YAXx-fPk"
      },
      "source": [
        "#pass \n",
        "for letter in 'kannan':\n",
        "  pass"
      ],
      "execution_count": null,
      "outputs": []
    },
    {
      "cell_type": "code",
      "metadata": {
        "id": "y0t6pTQi-jDN",
        "colab": {
          "base_uri": "https://localhost:8080/",
          "height": 35
        },
        "outputId": "c2b2186b-c130-478b-954d-26795a126e25"
      },
      "source": [
        "#continue... break \n",
        "for letter in 'kannan':\n",
        "  if letter == 'a':\n",
        "    break\n",
        "  print (letter)"
      ],
      "execution_count": null,
      "outputs": [
        {
          "output_type": "stream",
          "text": [
            "k\n"
          ],
          "name": "stdout"
        }
      ]
    },
    {
      "cell_type": "markdown",
      "metadata": {
        "id": "DVkg255-_R2j"
      },
      "source": [
        "#Functions"
      ]
    },
    {
      "cell_type": "code",
      "metadata": {
        "id": "G_EYZNgH_VI-"
      },
      "source": [
        "# Def function\n",
        "def hello():\n",
        "  print('hello')"
      ],
      "execution_count": null,
      "outputs": []
    },
    {
      "cell_type": "code",
      "metadata": {
        "id": "rwnlp3LG_XAr",
        "colab": {
          "base_uri": "https://localhost:8080/",
          "height": 35
        },
        "outputId": "4a2510c0-0fda-4d21-ef56-e1c8399fbd7e"
      },
      "source": [
        "# call function\n",
        "hello()"
      ],
      "execution_count": null,
      "outputs": [
        {
          "output_type": "stream",
          "text": [
            "hello\n"
          ],
          "name": "stdout"
        }
      ]
    },
    {
      "cell_type": "code",
      "metadata": {
        "id": "sCyCIRxy_clU"
      },
      "source": [
        "# Doc strings\n",
        "def hello():\n",
        "  \"\"\"this function prints a hello\"\"\"\n",
        "  print('hello')\n",
        "\n",
        "hello()"
      ],
      "execution_count": null,
      "outputs": []
    },
    {
      "cell_type": "code",
      "metadata": {
        "id": "EQAhVraq_eqp",
        "colab": {
          "base_uri": "https://localhost:8080/",
          "height": 35
        },
        "outputId": "dd56e41f-8f1d-4db0-e4c3-093863338451"
      },
      "source": [
        "# Parameters ... Arguments ... default values\n",
        "def greeting(message='hello'):\n",
        "  print(message)\n",
        "\n",
        "text = greeting('good morning')\n"
      ],
      "execution_count": null,
      "outputs": [
        {
          "output_type": "stream",
          "text": [
            "good morning\n"
          ],
          "name": "stdout"
        }
      ]
    },
    {
      "cell_type": "code",
      "metadata": {
        "id": "mWPCQS71NJ7m",
        "colab": {
          "base_uri": "https://localhost:8080/",
          "height": 35
        },
        "outputId": "21c8e6ec-2877-45e3-b992-7aa04d0931bf"
      },
      "source": [
        "type(text)"
      ],
      "execution_count": null,
      "outputs": [
        {
          "output_type": "execute_result",
          "data": {
            "text/plain": [
              "NoneType"
            ]
          },
          "metadata": {
            "tags": []
          },
          "execution_count": 92
        }
      ]
    },
    {
      "cell_type": "code",
      "metadata": {
        "id": "pJ2wzb6q_n7v"
      },
      "source": [
        "# Return\n",
        "def add(num1, num2):\n",
        "  return num1 + num2\n",
        "\n",
        "num = add(1,2)"
      ],
      "execution_count": null,
      "outputs": []
    },
    {
      "cell_type": "code",
      "metadata": {
        "id": "Q1LCkPqWNQ9V",
        "colab": {
          "base_uri": "https://localhost:8080/",
          "height": 34
        },
        "outputId": "69d0ac73-7032-467b-c761-b91e330d3891"
      },
      "source": [
        "num"
      ],
      "execution_count": null,
      "outputs": [
        {
          "output_type": "execute_result",
          "data": {
            "text/plain": [
              "3"
            ]
          },
          "metadata": {
            "tags": []
          },
          "execution_count": 94
        }
      ]
    }
  ]
}