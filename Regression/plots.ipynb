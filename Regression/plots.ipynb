{
  "nbformat": 4,
  "nbformat_minor": 0,
  "metadata": {
    "colab": {
      "private_outputs": true,
      "provenance": []
    },
    "kernelspec": {
      "name": "python3",
      "display_name": "Python 3"
    },
    "language_info": {
      "name": "python"
    }
  },
  "cells": [
    {
      "cell_type": "code",
      "execution_count": null,
      "metadata": {
        "id": "7p9XkhpNGJeS"
      },
      "outputs": [],
      "source": [
        "from google.colab import files\n",
        "uploaded = files.upload()"
      ]
    },
    {
      "cell_type": "code",
      "source": [
        "import pandas as pd\n",
        "ipl=pd.read_csv(\"IPL IMB381IPL2013.csv\")\n",
        "ipl.head()"
      ],
      "metadata": {
        "id": "nu8GbJLyJfl4"
      },
      "execution_count": null,
      "outputs": []
    },
    {
      "cell_type": "code",
      "source": [
        "ipl.head(10)"
      ],
      "metadata": {
        "id": "sv4yPvTgN8c2"
      },
      "execution_count": null,
      "outputs": []
    },
    {
      "cell_type": "code",
      "source": [
        "ipl.tail()"
      ],
      "metadata": {
        "id": "UfnelOC6ODz-"
      },
      "execution_count": null,
      "outputs": []
    },
    {
      "cell_type": "code",
      "source": [
        "ipl.tail(15)"
      ],
      "metadata": {
        "id": "T5yuv4TdOKGl"
      },
      "execution_count": null,
      "outputs": []
    },
    {
      "cell_type": "code",
      "source": [
        "ipl[50:60]"
      ],
      "metadata": {
        "id": "XXfzsDbUOdV0"
      },
      "execution_count": null,
      "outputs": []
    },
    {
      "cell_type": "code",
      "source": [
        "list(ipl.columns)"
      ],
      "metadata": {
        "id": "LFomOWcEOqvm"
      },
      "execution_count": null,
      "outputs": []
    },
    {
      "cell_type": "code",
      "source": [
        "ipl.info()"
      ],
      "metadata": {
        "id": "6i-pAcl1PKNV"
      },
      "execution_count": null,
      "outputs": []
    },
    {
      "cell_type": "code",
      "source": [
        "ipl[:10]"
      ],
      "metadata": {
        "id": "wMaBnRwhPbo-"
      },
      "execution_count": null,
      "outputs": []
    },
    {
      "cell_type": "code",
      "source": [
        "ipl[-20:]"
      ],
      "metadata": {
        "id": "OUUWHYAxPvLf"
      },
      "execution_count": null,
      "outputs": []
    },
    {
      "cell_type": "code",
      "source": [
        "ipl.iloc[::,5:10]"
      ],
      "metadata": {
        "id": "D_ndSxF7QDF5"
      },
      "execution_count": null,
      "outputs": []
    },
    {
      "cell_type": "code",
      "source": [
        "ipl.iloc[:5,5:10]"
      ],
      "metadata": {
        "id": "_WX5uN3lQbtk"
      },
      "execution_count": null,
      "outputs": []
    },
    {
      "cell_type": "code",
      "source": [
        "ipl['PLAYER NAME'][0:10]"
      ],
      "metadata": {
        "id": "SycJFqhtQmi4"
      },
      "execution_count": null,
      "outputs": []
    },
    {
      "cell_type": "code",
      "source": [
        "ipl[['PLAYER NAME','BASE PRICE','SOLD PRICE']][0:10]"
      ],
      "metadata": {
        "id": "WXafYgRnQ-fv"
      },
      "execution_count": null,
      "outputs": []
    },
    {
      "cell_type": "code",
      "source": [
        "ipl[['PLAYER NAME','COUNTRY','BASE PRICE','SOLD PRICE']].sort_values(\"SOLD PRICE\",ascending=False) [0:10]"
      ],
      "metadata": {
        "id": "ZZTShh1CR2Dz"
      },
      "execution_count": null,
      "outputs": []
    },
    {
      "cell_type": "code",
      "source": [
        "ipl['COUNTRY'].value_counts().to_frame()"
      ],
      "metadata": {
        "id": "qSN6a9-aUEr2"
      },
      "execution_count": null,
      "outputs": []
    },
    {
      "cell_type": "code",
      "source": [
        "ipl['PLAYING ROLE'].value_counts()"
      ],
      "metadata": {
        "id": "PjI_OfA9UxTi"
      },
      "execution_count": null,
      "outputs": []
    },
    {
      "cell_type": "code",
      "source": [
        "pd.crosstab(ipl[\"COUNTRY\"],ipl['PLAYING ROLE'])"
      ],
      "metadata": {
        "id": "053AGxo9V6sr"
      },
      "execution_count": null,
      "outputs": []
    },
    {
      "cell_type": "code",
      "source": [
        "pd.crosstab(ipl[\"COUNTRY\"], ipl['PLAYING ROLE'])"
      ],
      "metadata": {
        "id": "gePpHEvZWkRZ"
      },
      "execution_count": null,
      "outputs": []
    },
    {
      "cell_type": "code",
      "source": [
        "ipl.mean()"
      ],
      "metadata": {
        "id": "-V_udzWvXmsF"
      },
      "execution_count": null,
      "outputs": []
    },
    {
      "cell_type": "code",
      "source": [
        "ipl.median()"
      ],
      "metadata": {
        "id": "6EMjqdY2Xwkn"
      },
      "execution_count": null,
      "outputs": []
    },
    {
      "cell_type": "code",
      "source": [
        "ipl.std()"
      ],
      "metadata": {
        "id": "GzPSZTGDX7TM"
      },
      "execution_count": null,
      "outputs": []
    },
    {
      "cell_type": "code",
      "source": [
        "ipl.var()"
      ],
      "metadata": {
        "id": "B3rr2o6xX_-4"
      },
      "execution_count": null,
      "outputs": []
    },
    {
      "cell_type": "code",
      "source": [],
      "metadata": {
        "id": "2nRHP9W5Yu_X"
      },
      "execution_count": null,
      "outputs": []
    },
    {
      "cell_type": "code",
      "source": [
        "ipl.describe()"
      ],
      "metadata": {
        "id": "sf266OjlYFSP"
      },
      "execution_count": null,
      "outputs": []
    },
    {
      "cell_type": "code",
      "source": [
        "ipl[[\"AGE\",'AVE']].mean()"
      ],
      "metadata": {
        "id": "6kYaGLEBZLw3"
      },
      "execution_count": null,
      "outputs": []
    },
    {
      "cell_type": "code",
      "source": [
        "ipl.skew()"
      ],
      "metadata": {
        "id": "bEm5-9yka9J1"
      },
      "execution_count": null,
      "outputs": []
    },
    {
      "cell_type": "code",
      "source": [
        "ipl.kurtosis()"
      ],
      "metadata": {
        "id": "PQEEQqKMbBmu"
      },
      "execution_count": null,
      "outputs": []
    },
    {
      "cell_type": "code",
      "source": [
        "import matplotlib.pyplot as plt\n",
        "import numpy as np\n",
        "import seaborn as sn\n",
        "%matplotlib inline"
      ],
      "metadata": {
        "id": "9USiVv-FbRY1"
      },
      "execution_count": null,
      "outputs": []
    },
    {
      "cell_type": "code",
      "source": [
        "plt.bar(ipl['PLAYING ROLE'],ipl['SOLD PRICE'])"
      ],
      "metadata": {
        "id": "HiorqWoybUTJ"
      },
      "execution_count": null,
      "outputs": []
    },
    {
      "cell_type": "code",
      "source": [
        "sn.barplot(x='PLAYING ROLE',y='SOLD PRICE', data=ipl)"
      ],
      "metadata": {
        "id": "lex2jKRWqEYc"
      },
      "execution_count": null,
      "outputs": []
    },
    {
      "cell_type": "code",
      "source": [
        "plt.hist(ipl['SOLD PRICE']);"
      ],
      "metadata": {
        "id": "ukK3EhP_tju1"
      },
      "execution_count": null,
      "outputs": []
    },
    {
      "cell_type": "code",
      "source": [
        "plt.hist(ipl['SOLD PRICE'],bins=20);"
      ],
      "metadata": {
        "id": "CjU8vyVxtyJX"
      },
      "execution_count": null,
      "outputs": []
    },
    {
      "cell_type": "code",
      "source": [
        "sn.distplot(ipl['SOLD PRICE']);"
      ],
      "metadata": {
        "id": "Uo32DRv5uUBT"
      },
      "execution_count": null,
      "outputs": []
    },
    {
      "cell_type": "code",
      "source": [
        "sn.boxplot(ipl['SOLD PRICE']);"
      ],
      "metadata": {
        "id": "OChaxDDgutl2"
      },
      "execution_count": null,
      "outputs": []
    },
    {
      "cell_type": "code",
      "source": [
        "sn.boxplot(x='PLAYING ROLE', y='SOLD PRICE', data=ipl);"
      ],
      "metadata": {
        "id": "mGg2Vcclu_4a"
      },
      "execution_count": null,
      "outputs": []
    },
    {
      "cell_type": "code",
      "source": [
        "sn.countplot(x=\"PLAYING ROLE\",data=ipl);"
      ],
      "metadata": {
        "id": "G_uqSgAivZ9p"
      },
      "execution_count": null,
      "outputs": []
    },
    {
      "cell_type": "code",
      "source": [
        "sn.lineplot(x='SOLD PRICE', y='BASE PRICE', data=ipl);"
      ],
      "metadata": {
        "id": "V7kbzP3_yva5"
      },
      "execution_count": null,
      "outputs": []
    },
    {
      "cell_type": "code",
      "source": [
        "sn.scatterplot(x='SOLD PRICE', y='BASE PRICE', data=ipl, )"
      ],
      "metadata": {
        "id": "glBbxaY4y3a8"
      },
      "execution_count": null,
      "outputs": []
    },
    {
      "cell_type": "code",
      "source": [
        "list(ipl.columns)"
      ],
      "metadata": {
        "id": "V5BxrXyW-NcB"
      },
      "execution_count": null,
      "outputs": []
    },
    {
      "cell_type": "code",
      "source": [
        "ipl.info()"
      ],
      "metadata": {
        "id": "WsoazD2K-cL0"
      },
      "execution_count": null,
      "outputs": []
    },
    {
      "cell_type": "code",
      "source": [
        "features=['RUNS-S','SIXERS','BASE PRICE','SOLD PRICE']"
      ],
      "metadata": {
        "id": "SR0OIPYy-EET"
      },
      "execution_count": null,
      "outputs": []
    },
    {
      "cell_type": "code",
      "source": [
        "sn.heatmap(ipl[features].corr(),annot=True)"
      ],
      "metadata": {
        "id": "-M8cShre-7h1"
      },
      "execution_count": null,
      "outputs": []
    },
    {
      "cell_type": "code",
      "source": [
        "sn.pairplot(ipl[features],size=2)"
      ],
      "metadata": {
        "id": "WgxEbVA6nx2n"
      },
      "execution_count": null,
      "outputs": []
    },
    {
      "cell_type": "code",
      "source": [
        "ipl[features].corr()"
      ],
      "metadata": {
        "id": "ZBbcKU8UpUsS"
      },
      "execution_count": null,
      "outputs": []
    },
    {
      "cell_type": "code",
      "source": [
        "ipl[ipl['SOLD PRICE']>1350000][['PLAYER NAME','PLAYING ROLE', 'SOLD PRICE']]"
      ],
      "metadata": {
        "id": "eFDzgw-gp8Hv"
      },
      "execution_count": null,
      "outputs": []
    },
    {
      "cell_type": "code",
      "source": [
        "import statsmodels.api as sm\n",
        "x = sm.add_constant( ipl['SIXERS'] )\n",
        "x.head(5)"
      ],
      "metadata": {
        "id": "Ki6mrnQpsKTC"
      },
      "execution_count": null,
      "outputs": []
    },
    {
      "cell_type": "code",
      "source": [
        "y=ipl['SOLD PRICE']\n",
        "y"
      ],
      "metadata": {
        "id": "yrQhqaHhwNdb"
      },
      "execution_count": null,
      "outputs": []
    },
    {
      "cell_type": "markdown",
      "source": [],
      "metadata": {
        "id": "jWjITlx6wM9C"
      }
    },
    {
      "cell_type": "code",
      "source": [
        "model=sm.OLS(y, x).fit()\n"
      ],
      "metadata": {
        "id": "8qFooVU7suN5"
      },
      "execution_count": null,
      "outputs": []
    },
    {
      "cell_type": "code",
      "source": [
        "print(model.params)"
      ],
      "metadata": {
        "id": "V5zaNvb7bFdf"
      },
      "execution_count": null,
      "outputs": []
    },
    {
      "cell_type": "code",
      "source": [
        "model.summary2()"
      ],
      "metadata": {
        "id": "gOv22DJmbPuQ"
      },
      "execution_count": null,
      "outputs": []
    }
  ]
}